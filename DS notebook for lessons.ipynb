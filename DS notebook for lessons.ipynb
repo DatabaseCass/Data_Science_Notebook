{
 "cells": [
  {
   "cell_type": "markdown",
   "metadata": {},
   "source": [
    "# This is a demo notebook to show student how to use notebooks"
   ]
  },
  {
   "cell_type": "markdown",
   "metadata": {},
   "source": [
    "Here we will be putting example of code. feel free to follow along in your own notebook"
   ]
  },
  {
   "cell_type": "code",
   "execution_count": 31,
   "metadata": {},
   "outputs": [
    {
     "name": "stdout",
     "output_type": "stream",
     "text": [
      "[1, 2, 3, 4, 5, 6, 7]\n"
     ]
    }
   ],
   "source": [
    "numbers = [1,2,3,4,5,6,7]\n",
    "print(numbers)"
   ]
  },
  {
   "cell_type": "code",
   "execution_count": 32,
   "metadata": {},
   "outputs": [
    {
     "name": "stdout",
     "output_type": "stream",
     "text": [
      "the data type in numbers is <class 'str'>\n"
     ]
    }
   ],
   "source": [
    "numbers = 2\n",
    "words = \"yo\"\n",
    "\n",
    "print(\"the data type in numbers is\", type(\"numbers\"))"
   ]
  },
  {
   "cell_type": "code",
   "execution_count": 33,
   "metadata": {},
   "outputs": [],
   "source": [
    "def divide_two_numbers(x,y):\n",
    "    result = x/y\n",
    "    return result"
   ]
  },
  {
   "cell_type": "code",
   "execution_count": 34,
   "metadata": {},
   "outputs": [
    {
     "name": "stdout",
     "output_type": "stream",
     "text": [
      "4.0\n"
     ]
    }
   ],
   "source": [
    "number_1 = 8\n",
    "number_2 = 2\n",
    "\n",
    "operation = divide_two_numbers(number_1,number_2)\n",
    "\n",
    "print(operation)"
   ]
  },
  {
   "cell_type": "code",
   "execution_count": 35,
   "metadata": {},
   "outputs": [
    {
     "name": "stdout",
     "output_type": "stream",
     "text": [
      "Number is not greater than 3\n"
     ]
    }
   ],
   "source": [
    "number = 2\n",
    "\n",
    "if number > 3:\n",
    "    print(\"Number is bigger than 3\")\n",
    "else:\n",
    "    print(\"Number is not greater than 3\")"
   ]
  },
  {
   "cell_type": "code",
   "execution_count": 36,
   "metadata": {},
   "outputs": [
    {
     "name": "stdout",
     "output_type": "stream",
     "text": [
      "1\n",
      "2\n",
      "3\n",
      "4\n",
      "5\n"
     ]
    }
   ],
   "source": [
    "Numbers = [1,2,3,4,5]\n",
    "\n",
    "for i in Numbers:\n",
    "    print(i)"
   ]
  },
  {
   "cell_type": "markdown",
   "metadata": {},
   "source": [
    "## Steps to create function"
   ]
  },
  {
   "cell_type": "markdown",
   "metadata": {},
   "source": [
    "1. create a name for the function\n",
    "2. tell the function what arguments/parameters/variables it is going to take inside of it\n",
    "3. Determine what calculation is going to be used. We want to find what an even number is\n",
    "4. We need to find a way to go through each number and perform the calculation above (can the number be divided cleanly by 2?)\n",
    "5. We need to tell the function what to return to us or print"
   ]
  },
  {
   "cell_type": "code",
   "execution_count": 37,
   "metadata": {},
   "outputs": [],
   "source": [
    "Numbers = [ 7, 935, 1, 99, 3]\n",
    "\n",
    "def has_even_numbers(num):\n",
    "    for i in num:\n",
    "        if i % 2 == 0:\n",
    "            return True\n",
    "    return False    \n"
   ]
  },
  {
   "cell_type": "code",
   "execution_count": 38,
   "metadata": {},
   "outputs": [
    {
     "name": "stdout",
     "output_type": "stream",
     "text": [
      "This list has NO even numbers\n"
     ]
    }
   ],
   "source": [
    "if has_even_numbers(Numbers):\n",
    "    print(\"This list has even numbers\")\n",
    "else:\n",
    "    print(\"This list has NO even numbers\")"
   ]
  },
  {
   "cell_type": "markdown",
   "metadata": {},
   "source": [
    "* = multiplication\n",
    "- = minus\n",
    "/ = divide\n",
    "+ = add\n",
    "% = modulo operator (divisible kind of like a fraction)"
   ]
  },
  {
   "cell_type": "code",
   "execution_count": 39,
   "metadata": {},
   "outputs": [
    {
     "name": "stdout",
     "output_type": "stream",
     "text": [
      "10\n"
     ]
    }
   ],
   "source": [
    "print(8+2)"
   ]
  },
  {
   "cell_type": "code",
   "execution_count": 40,
   "metadata": {},
   "outputs": [
    {
     "name": "stdout",
     "output_type": "stream",
     "text": [
      "Hi, my name is Cassius\n"
     ]
    }
   ],
   "source": [
    "print(\"Hi, my name is Cassius\")"
   ]
  },
  {
   "cell_type": "code",
   "execution_count": 41,
   "metadata": {},
   "outputs": [
    {
     "name": "stdout",
     "output_type": "stream",
     "text": [
      "The sum of even numbers between 1 and 10 is: 30\n"
     ]
    }
   ],
   "source": [
    "sum = 0 \n",
    "\n",
    "for i in range(1, 11):\n",
    "    if i % 2 == 0:\n",
    "        sum += i \n",
    "print(\"The sum of even numbers between 1 and 10 is:\", sum)         "
   ]
  },
  {
   "cell_type": "code",
   "execution_count": 42,
   "metadata": {},
   "outputs": [
    {
     "name": "stdout",
     "output_type": "stream",
     "text": [
      "Error: Dont be silly\n"
     ]
    }
   ],
   "source": [
    "numerator = 10 \n",
    "denominator = 0 \n",
    "\n",
    "if denominator != 0:\n",
    "    result = numerator / denominator    \n",
    "    print(result)\n",
    "else:\n",
    "    print(\"Error: Dont be silly\") "
   ]
  },
  {
   "cell_type": "code",
   "execution_count": 43,
   "metadata": {},
   "outputs": [
    {
     "name": "stdout",
     "output_type": "stream",
     "text": [
      "Hey how are you?\n"
     ]
    }
   ],
   "source": [
    "def greet(): \n",
    "    print(\"Hey how are you?\")\n",
    "\n",
    "greet() "
   ]
  },
  {
   "cell_type": "markdown",
   "metadata": {},
   "source": [
    "# Exchange Rate"
   ]
  },
  {
   "cell_type": "markdown",
   "metadata": {},
   "source": [
    "You are a Personal Assistant. Your boss has asked you to get an accurate conversion rate for a shipment he is expecting from Dubai. He wants to know how much he would save or not if he chose to pay in AED instead of GBP. \n",
    "\n",
    "Create a function called \"Shipment_Conversion\" that takes the standard conversion rate of 4.56AED to 1GBP and show him how much he would pay if his shipment cost 2,000GBP."
   ]
  },
  {
   "cell_type": "code",
   "execution_count": 44,
   "metadata": {},
   "outputs": [],
   "source": [
    "rate = 4.56\n",
    "amount = 2000"
   ]
  },
  {
   "cell_type": "code",
   "execution_count": 45,
   "metadata": {},
   "outputs": [],
   "source": [
    "def shipment_conversion(shipmentcost):\n",
    "    rate = 4.56\n",
    "    amount_AED = shipmentcost*rate\n",
    "    return amount_AED    "
   ]
  },
  {
   "cell_type": "code",
   "execution_count": 46,
   "metadata": {},
   "outputs": [
    {
     "data": {
      "text/plain": [
       "9120.0"
      ]
     },
     "execution_count": 46,
     "metadata": {},
     "output_type": "execute_result"
    }
   ],
   "source": [
    "shipment_conversion(2000)"
   ]
  },
  {
   "cell_type": "code",
   "execution_count": 47,
   "metadata": {},
   "outputs": [],
   "source": [
    "def shipment_conversion2(cost,input_currency,output_currency):\n",
    "    result = cost*rate[output_currency]\n",
    "    print(f\"if your shipment costs {cost} {input_currency}, it's worth {result} {output_currency}\")\n",
    "    \n",
    "rate = {\"GBP\": 1/4.56, \"AED\": 4.56}    "
   ]
  },
  {
   "cell_type": "code",
   "execution_count": 48,
   "metadata": {},
   "outputs": [
    {
     "name": "stdout",
     "output_type": "stream",
     "text": [
      "if your shipment costs 2000 GBP, it's worth 9120.0 AED\n"
     ]
    }
   ],
   "source": [
    "shipment_conversion2(2000,\"GBP\",\"AED\")"
   ]
  },
  {
   "cell_type": "code",
   "execution_count": 49,
   "metadata": {},
   "outputs": [
    {
     "data": {
      "text/plain": [
       "9120.0"
      ]
     },
     "execution_count": 49,
     "metadata": {},
     "output_type": "execute_result"
    }
   ],
   "source": [
    "def shipment_conversion3(x,y):\n",
    "    result = x*y\n",
    "    return result\n",
    "\n",
    "Conversion_Rate = 4.56\n",
    "pound_amount = 2000\n",
    "\n",
    "shipment_conversion3(Conversion_Rate,pound_amount)"
   ]
  },
  {
   "cell_type": "code",
   "execution_count": 50,
   "metadata": {},
   "outputs": [],
   "source": [
    "num = [1,2,3,4,5] ##list\n",
    "\n",
    "num2 = (1,2,3,4,5) ##tuple"
   ]
  },
  {
   "cell_type": "code",
   "execution_count": 51,
   "metadata": {},
   "outputs": [
    {
     "name": "stdout",
     "output_type": "stream",
     "text": [
      "its sunny\n"
     ]
    }
   ],
   "source": [
    "is_raining = False\n",
    "\n",
    "if is_raining:\n",
    "    print(\"stay inside\")\n",
    "else:\n",
    "    print(\"its sunny\")"
   ]
  },
  {
   "cell_type": "code",
   "execution_count": 52,
   "metadata": {},
   "outputs": [
    {
     "name": "stdout",
     "output_type": "stream",
     "text": [
      "False\n"
     ]
    }
   ],
   "source": [
    "a = True\n",
    "b = True\n",
    "\n",
    "print(a!=b)"
   ]
  },
  {
   "cell_type": "code",
   "execution_count": 53,
   "metadata": {},
   "outputs": [
    {
     "name": "stdout",
     "output_type": "stream",
     "text": [
      "ABCD\n"
     ]
    },
    {
     "data": {
      "text/plain": [
       "4"
      ]
     },
     "execution_count": 53,
     "metadata": {},
     "output_type": "execute_result"
    }
   ],
   "source": [
    "new_string = (\"abcd\")\n",
    "\n",
    "print(new_string.upper())\n",
    "len(new_string)"
   ]
  },
  {
   "cell_type": "code",
   "execution_count": 54,
   "metadata": {},
   "outputs": [
    {
     "name": "stdout",
     "output_type": "stream",
     "text": [
      "['hello', 'my', 'name', 'is', 'Cass']\n"
     ]
    }
   ],
   "source": [
    "a = (\"hello my name is Cass\")\n",
    "\n",
    "print(a.split())"
   ]
  },
  {
   "cell_type": "code",
   "execution_count": 55,
   "metadata": {},
   "outputs": [],
   "source": [
    "moveset = {\"high kick\": 200, \"block\": 0, \"special move\": 1000}\n",
    "\n"
   ]
  },
  {
   "cell_type": "code",
   "execution_count": 56,
   "metadata": {},
   "outputs": [
    {
     "name": "stdout",
     "output_type": "stream",
     "text": [
      "0\n",
      "1\n",
      "2\n",
      "3\n",
      "4\n",
      "5\n",
      "6\n",
      "7\n",
      "8\n",
      "9\n",
      "10\n",
      "11\n",
      "12\n",
      "13\n",
      "14\n",
      "15\n",
      "16\n",
      "17\n",
      "18\n",
      "19\n"
     ]
    }
   ],
   "source": [
    "numbers = 0\n",
    "\n",
    "while numbers < 20:\n",
    "    print(numbers)\n",
    "    numbers += 1"
   ]
  },
  {
   "cell_type": "code",
   "execution_count": 57,
   "metadata": {},
   "outputs": [],
   "source": [
    "## we know that the variable numbers is currently at the value of zero.\n",
    "## whilst this variable remains less than 20\n",
    "## show us the value of the variable, but add 1 each time you loop. Until it reaches 20"
   ]
  },
  {
   "cell_type": "code",
   "execution_count": 58,
   "metadata": {},
   "outputs": [
    {
     "name": "stdout",
     "output_type": "stream",
     "text": [
      "VW\n",
      "BMW\n"
     ]
    }
   ],
   "source": [
    "cars = [\"VW\", \"BMW\", \"Mercedes\", \"Toyota\"]\n",
    "\n",
    "for car in cars:\n",
    "    if car == \"Mercedes\":\n",
    "        break\n",
    "    print(car)\n",
    "    "
   ]
  },
  {
   "cell_type": "code",
   "execution_count": 59,
   "metadata": {},
   "outputs": [
    {
     "name": "stdout",
     "output_type": "stream",
     "text": [
      "What is your favorite car: SEAT\n"
     ]
    },
    {
     "data": {
      "text/plain": [
       "'SEAT'"
      ]
     },
     "execution_count": 59,
     "metadata": {},
     "output_type": "execute_result"
    }
   ],
   "source": [
    "input(\"What is your favorite car: \") "
   ]
  },
  {
   "cell_type": "code",
   "execution_count": 60,
   "metadata": {},
   "outputs": [
    {
     "name": "stdout",
     "output_type": "stream",
     "text": [
      "please enter a number: 2\n",
      "2\n"
     ]
    }
   ],
   "source": [
    "number_choice = int(input(\"please enter a number: \"))\n",
    "print(number_choice)"
   ]
  },
  {
   "cell_type": "code",
   "execution_count": 61,
   "metadata": {},
   "outputs": [
    {
     "name": "stdout",
     "output_type": "stream",
     "text": [
      "whats my name?: Cassius\n"
     ]
    },
    {
     "data": {
      "text/plain": [
       "'Cassius'"
      ]
     },
     "execution_count": 61,
     "metadata": {},
     "output_type": "execute_result"
    }
   ],
   "source": [
    "input(\"whats my name?: \")"
   ]
  },
  {
   "cell_type": "code",
   "execution_count": 62,
   "metadata": {},
   "outputs": [],
   "source": [
    "input_variable = 1\n"
   ]
  },
  {
   "cell_type": "markdown",
   "metadata": {},
   "source": [
    "# Pandas"
   ]
  },
  {
   "cell_type": "code",
   "execution_count": 63,
   "metadata": {},
   "outputs": [],
   "source": [
    "import pandas as pd"
   ]
  },
  {
   "cell_type": "code",
   "execution_count": 64,
   "metadata": {},
   "outputs": [
    {
     "name": "stdout",
     "output_type": "stream",
     "text": [
      "   student_ID   name grade\n",
      "0           1   lucy    A+\n",
      "1           2  micah     D\n",
      "2           3   mark     B\n"
     ]
    }
   ],
   "source": [
    "x = {\"student_ID\" : [1,2,3],\n",
    "    \"name\" : [\"lucy\",\"micah\",\"mark\"],\n",
    "    \"grade\" : [\"A+\", \"D\", \"B\"]\n",
    "    }\n",
    "\n",
    "df = pd.DataFrame(x)\n",
    "\n",
    "print(df)"
   ]
  },
  {
   "cell_type": "code",
   "execution_count": 65,
   "metadata": {},
   "outputs": [
    {
     "data": {
      "text/html": [
       "<div>\n",
       "<style scoped>\n",
       "    .dataframe tbody tr th:only-of-type {\n",
       "        vertical-align: middle;\n",
       "    }\n",
       "\n",
       "    .dataframe tbody tr th {\n",
       "        vertical-align: top;\n",
       "    }\n",
       "\n",
       "    .dataframe thead th {\n",
       "        text-align: right;\n",
       "    }\n",
       "</style>\n",
       "<table border=\"1\" class=\"dataframe\">\n",
       "  <thead>\n",
       "    <tr style=\"text-align: right;\">\n",
       "      <th></th>\n",
       "      <th>Car_Make</th>\n",
       "      <th>Car_Model</th>\n",
       "      <th>Engine</th>\n",
       "      <th>Price</th>\n",
       "      <th>Markup</th>\n",
       "    </tr>\n",
       "  </thead>\n",
       "  <tbody>\n",
       "    <tr>\n",
       "      <th>0</th>\n",
       "      <td>VW</td>\n",
       "      <td>Golf</td>\n",
       "      <td>1.4</td>\n",
       "      <td>7800</td>\n",
       "      <td>1.13</td>\n",
       "    </tr>\n",
       "    <tr>\n",
       "      <th>1</th>\n",
       "      <td>BMW</td>\n",
       "      <td>3 Series</td>\n",
       "      <td>2.0</td>\n",
       "      <td>11000</td>\n",
       "      <td>1.08</td>\n",
       "    </tr>\n",
       "    <tr>\n",
       "      <th>2</th>\n",
       "      <td>Mercedes-Benz</td>\n",
       "      <td>E-Class</td>\n",
       "      <td>2.0</td>\n",
       "      <td>15000</td>\n",
       "      <td>1.11</td>\n",
       "    </tr>\n",
       "    <tr>\n",
       "      <th>3</th>\n",
       "      <td>Vauxhall</td>\n",
       "      <td>Astra</td>\n",
       "      <td>1.2</td>\n",
       "      <td>6700</td>\n",
       "      <td>1.21</td>\n",
       "    </tr>\n",
       "    <tr>\n",
       "      <th>4</th>\n",
       "      <td>Toyota</td>\n",
       "      <td>Yaris</td>\n",
       "      <td>1.1</td>\n",
       "      <td>8200</td>\n",
       "      <td>1.02</td>\n",
       "    </tr>\n",
       "  </tbody>\n",
       "</table>\n",
       "</div>"
      ],
      "text/plain": [
       "        Car_Make Car_Model  Engine  Price  Markup\n",
       "0             VW      Golf     1.4   7800    1.13\n",
       "1            BMW  3 Series     2.0  11000    1.08\n",
       "2  Mercedes-Benz   E-Class     2.0  15000    1.11\n",
       "3       Vauxhall     Astra     1.2   6700    1.21\n",
       "4         Toyota     Yaris     1.1   8200    1.02"
      ]
     },
     "execution_count": 65,
     "metadata": {},
     "output_type": "execute_result"
    }
   ],
   "source": [
    "data = {\"Car_Make\": [\"VW\", \"BMW\",\"Mercedes-Benz\",\"Vauxhall\", \"Toyota\", \"Honda\", \"Mazda\"],\n",
    "       \"Car_Model\": [\"Golf\", \"3 Series\", \"E-Class\", \"Astra\", \"Yaris\", \"Civic\", \"3\"],\n",
    "       \"Engine\": [1.4, 2, 2, 1.2, 1.1, 1.6, 2.2],\n",
    "       \"Price\": [7800, 11000, 15000, 6700, 8200, 9600, 9000]\n",
    "       }\n",
    "\n",
    "cars = pd.DataFrame(data)\n",
    "\n",
    "data2 = {\"Car_Make\": [\"VW\",\"BMW\",\"Mercedes-Benz\",\"Vauxhall\", \"Toyota\", \"Honda\", \"Mazda\"],\n",
    "        \"Markup\" : [1.13, 1.08, 1.11, 1.21, 1.02, 1.04, 1.02]}\n",
    "\n",
    "markup = pd.DataFrame(data2)\n",
    "\n",
    "merge = cars.merge(markup, how = \"left\")\n",
    "\n",
    "merge.head()"
   ]
  },
  {
   "cell_type": "code",
   "execution_count": 66,
   "metadata": {},
   "outputs": [
    {
     "data": {
      "text/html": [
       "<div>\n",
       "<style scoped>\n",
       "    .dataframe tbody tr th:only-of-type {\n",
       "        vertical-align: middle;\n",
       "    }\n",
       "\n",
       "    .dataframe tbody tr th {\n",
       "        vertical-align: top;\n",
       "    }\n",
       "\n",
       "    .dataframe thead th {\n",
       "        text-align: right;\n",
       "    }\n",
       "</style>\n",
       "<table border=\"1\" class=\"dataframe\">\n",
       "  <thead>\n",
       "    <tr style=\"text-align: right;\">\n",
       "      <th></th>\n",
       "      <th>Car_Make</th>\n",
       "      <th>Car_Model</th>\n",
       "      <th>Engine</th>\n",
       "      <th>Price</th>\n",
       "      <th>Markup</th>\n",
       "      <th>Retail_Price</th>\n",
       "    </tr>\n",
       "  </thead>\n",
       "  <tbody>\n",
       "    <tr>\n",
       "      <th>0</th>\n",
       "      <td>VW</td>\n",
       "      <td>Golf</td>\n",
       "      <td>1.4</td>\n",
       "      <td>7800</td>\n",
       "      <td>1.13</td>\n",
       "      <td>8814.0</td>\n",
       "    </tr>\n",
       "    <tr>\n",
       "      <th>1</th>\n",
       "      <td>BMW</td>\n",
       "      <td>3 Series</td>\n",
       "      <td>2.0</td>\n",
       "      <td>11000</td>\n",
       "      <td>1.08</td>\n",
       "      <td>11880.0</td>\n",
       "    </tr>\n",
       "    <tr>\n",
       "      <th>2</th>\n",
       "      <td>Mercedes-Benz</td>\n",
       "      <td>E-Class</td>\n",
       "      <td>2.0</td>\n",
       "      <td>15000</td>\n",
       "      <td>1.11</td>\n",
       "      <td>16650.0</td>\n",
       "    </tr>\n",
       "    <tr>\n",
       "      <th>3</th>\n",
       "      <td>Vauxhall</td>\n",
       "      <td>Astra</td>\n",
       "      <td>1.2</td>\n",
       "      <td>6700</td>\n",
       "      <td>1.21</td>\n",
       "      <td>8107.0</td>\n",
       "    </tr>\n",
       "    <tr>\n",
       "      <th>4</th>\n",
       "      <td>Toyota</td>\n",
       "      <td>Yaris</td>\n",
       "      <td>1.1</td>\n",
       "      <td>8200</td>\n",
       "      <td>1.02</td>\n",
       "      <td>8364.0</td>\n",
       "    </tr>\n",
       "  </tbody>\n",
       "</table>\n",
       "</div>"
      ],
      "text/plain": [
       "        Car_Make Car_Model  Engine  Price  Markup  Retail_Price\n",
       "0             VW      Golf     1.4   7800    1.13        8814.0\n",
       "1            BMW  3 Series     2.0  11000    1.08       11880.0\n",
       "2  Mercedes-Benz   E-Class     2.0  15000    1.11       16650.0\n",
       "3       Vauxhall     Astra     1.2   6700    1.21        8107.0\n",
       "4         Toyota     Yaris     1.1   8200    1.02        8364.0"
      ]
     },
     "execution_count": 66,
     "metadata": {},
     "output_type": "execute_result"
    }
   ],
   "source": [
    "multiply = merge.Price*merge.Markup\n",
    "\n",
    "merge[\"Retail_Price\"] = multiply\n",
    "\n",
    "merge.head()"
   ]
  },
  {
   "cell_type": "code",
   "execution_count": 67,
   "metadata": {},
   "outputs": [
    {
     "data": {
      "text/html": [
       "<div>\n",
       "<style scoped>\n",
       "    .dataframe tbody tr th:only-of-type {\n",
       "        vertical-align: middle;\n",
       "    }\n",
       "\n",
       "    .dataframe tbody tr th {\n",
       "        vertical-align: top;\n",
       "    }\n",
       "\n",
       "    .dataframe thead th {\n",
       "        text-align: right;\n",
       "    }\n",
       "</style>\n",
       "<table border=\"1\" class=\"dataframe\">\n",
       "  <thead>\n",
       "    <tr style=\"text-align: right;\">\n",
       "      <th></th>\n",
       "      <th>Car_Make</th>\n",
       "      <th>Car_Model</th>\n",
       "      <th>Engine</th>\n",
       "      <th>Purchase_Price</th>\n",
       "      <th>Markup</th>\n",
       "      <th>Retail_Price</th>\n",
       "    </tr>\n",
       "  </thead>\n",
       "  <tbody>\n",
       "    <tr>\n",
       "      <th>0</th>\n",
       "      <td>VW</td>\n",
       "      <td>Golf</td>\n",
       "      <td>1.4</td>\n",
       "      <td>7800</td>\n",
       "      <td>1.13</td>\n",
       "      <td>8814.0</td>\n",
       "    </tr>\n",
       "    <tr>\n",
       "      <th>1</th>\n",
       "      <td>BMW</td>\n",
       "      <td>3 Series</td>\n",
       "      <td>2.0</td>\n",
       "      <td>11000</td>\n",
       "      <td>1.08</td>\n",
       "      <td>11880.0</td>\n",
       "    </tr>\n",
       "    <tr>\n",
       "      <th>2</th>\n",
       "      <td>Mercedes-Benz</td>\n",
       "      <td>E-Class</td>\n",
       "      <td>2.0</td>\n",
       "      <td>15000</td>\n",
       "      <td>1.11</td>\n",
       "      <td>16650.0</td>\n",
       "    </tr>\n",
       "    <tr>\n",
       "      <th>3</th>\n",
       "      <td>Vauxhall</td>\n",
       "      <td>Astra</td>\n",
       "      <td>1.2</td>\n",
       "      <td>6700</td>\n",
       "      <td>1.21</td>\n",
       "      <td>8107.0</td>\n",
       "    </tr>\n",
       "    <tr>\n",
       "      <th>4</th>\n",
       "      <td>Toyota</td>\n",
       "      <td>Yaris</td>\n",
       "      <td>1.1</td>\n",
       "      <td>8200</td>\n",
       "      <td>1.02</td>\n",
       "      <td>8364.0</td>\n",
       "    </tr>\n",
       "  </tbody>\n",
       "</table>\n",
       "</div>"
      ],
      "text/plain": [
       "        Car_Make Car_Model  Engine  Purchase_Price  Markup  Retail_Price\n",
       "0             VW      Golf     1.4            7800    1.13        8814.0\n",
       "1            BMW  3 Series     2.0           11000    1.08       11880.0\n",
       "2  Mercedes-Benz   E-Class     2.0           15000    1.11       16650.0\n",
       "3       Vauxhall     Astra     1.2            6700    1.21        8107.0\n",
       "4         Toyota     Yaris     1.1            8200    1.02        8364.0"
      ]
     },
     "execution_count": 67,
     "metadata": {},
     "output_type": "execute_result"
    }
   ],
   "source": [
    "df = merge.rename(columns = {\"Price\": \"Purchase_Price\"})\n",
    "\n",
    "df.head()"
   ]
  },
  {
   "cell_type": "code",
   "execution_count": 68,
   "metadata": {},
   "outputs": [
    {
     "data": {
      "text/plain": [
       "False"
      ]
     },
     "execution_count": 68,
     "metadata": {},
     "output_type": "execute_result"
    }
   ],
   "source": [
    "df.isnull().values.any()"
   ]
  },
  {
   "cell_type": "code",
   "execution_count": 69,
   "metadata": {},
   "outputs": [
    {
     "data": {
      "text/html": [
       "<div>\n",
       "<style scoped>\n",
       "    .dataframe tbody tr th:only-of-type {\n",
       "        vertical-align: middle;\n",
       "    }\n",
       "\n",
       "    .dataframe tbody tr th {\n",
       "        vertical-align: top;\n",
       "    }\n",
       "\n",
       "    .dataframe thead th {\n",
       "        text-align: right;\n",
       "    }\n",
       "</style>\n",
       "<table border=\"1\" class=\"dataframe\">\n",
       "  <thead>\n",
       "    <tr style=\"text-align: right;\">\n",
       "      <th></th>\n",
       "      <th>Series_reference</th>\n",
       "      <th>Period</th>\n",
       "      <th>Data_value</th>\n",
       "      <th>Suppressed</th>\n",
       "      <th>STATUS</th>\n",
       "      <th>UNITS</th>\n",
       "      <th>Magnitude</th>\n",
       "      <th>Subject</th>\n",
       "      <th>Group</th>\n",
       "      <th>Series_title_1</th>\n",
       "      <th>Series_title_2</th>\n",
       "      <th>Series_title_3</th>\n",
       "      <th>Series_title_4</th>\n",
       "      <th>Series_title_5</th>\n",
       "    </tr>\n",
       "  </thead>\n",
       "  <tbody>\n",
       "    <tr>\n",
       "      <th>0</th>\n",
       "      <td>WTSQ.SFA1CA</td>\n",
       "      <td>1995.03</td>\n",
       "      <td>2368.69</td>\n",
       "      <td>NaN</td>\n",
       "      <td>F</td>\n",
       "      <td>Dollars</td>\n",
       "      <td>6</td>\n",
       "      <td>Wholesale Trade Survey - WTS</td>\n",
       "      <td>Industry by variable - (ANZSIC06) - Subannual ...</td>\n",
       "      <td>Basic material wholesaling</td>\n",
       "      <td>Sales (operating income)</td>\n",
       "      <td>Current prices</td>\n",
       "      <td>Unadjusted</td>\n",
       "      <td>NaN</td>\n",
       "    </tr>\n",
       "    <tr>\n",
       "      <th>1</th>\n",
       "      <td>WTSQ.SFA1CA</td>\n",
       "      <td>1995.06</td>\n",
       "      <td>2100.44</td>\n",
       "      <td>NaN</td>\n",
       "      <td>F</td>\n",
       "      <td>Dollars</td>\n",
       "      <td>6</td>\n",
       "      <td>Wholesale Trade Survey - WTS</td>\n",
       "      <td>Industry by variable - (ANZSIC06) - Subannual ...</td>\n",
       "      <td>Basic material wholesaling</td>\n",
       "      <td>Sales (operating income)</td>\n",
       "      <td>Current prices</td>\n",
       "      <td>Unadjusted</td>\n",
       "      <td>NaN</td>\n",
       "    </tr>\n",
       "    <tr>\n",
       "      <th>2</th>\n",
       "      <td>WTSQ.SFA1CA</td>\n",
       "      <td>1995.09</td>\n",
       "      <td>2070.21</td>\n",
       "      <td>NaN</td>\n",
       "      <td>F</td>\n",
       "      <td>Dollars</td>\n",
       "      <td>6</td>\n",
       "      <td>Wholesale Trade Survey - WTS</td>\n",
       "      <td>Industry by variable - (ANZSIC06) - Subannual ...</td>\n",
       "      <td>Basic material wholesaling</td>\n",
       "      <td>Sales (operating income)</td>\n",
       "      <td>Current prices</td>\n",
       "      <td>Unadjusted</td>\n",
       "      <td>NaN</td>\n",
       "    </tr>\n",
       "    <tr>\n",
       "      <th>3</th>\n",
       "      <td>WTSQ.SFA1CA</td>\n",
       "      <td>1995.12</td>\n",
       "      <td>2284.77</td>\n",
       "      <td>NaN</td>\n",
       "      <td>F</td>\n",
       "      <td>Dollars</td>\n",
       "      <td>6</td>\n",
       "      <td>Wholesale Trade Survey - WTS</td>\n",
       "      <td>Industry by variable - (ANZSIC06) - Subannual ...</td>\n",
       "      <td>Basic material wholesaling</td>\n",
       "      <td>Sales (operating income)</td>\n",
       "      <td>Current prices</td>\n",
       "      <td>Unadjusted</td>\n",
       "      <td>NaN</td>\n",
       "    </tr>\n",
       "    <tr>\n",
       "      <th>4</th>\n",
       "      <td>WTSQ.SFA1CA</td>\n",
       "      <td>1996.03</td>\n",
       "      <td>2134.76</td>\n",
       "      <td>NaN</td>\n",
       "      <td>F</td>\n",
       "      <td>Dollars</td>\n",
       "      <td>6</td>\n",
       "      <td>Wholesale Trade Survey - WTS</td>\n",
       "      <td>Industry by variable - (ANZSIC06) - Subannual ...</td>\n",
       "      <td>Basic material wholesaling</td>\n",
       "      <td>Sales (operating income)</td>\n",
       "      <td>Current prices</td>\n",
       "      <td>Unadjusted</td>\n",
       "      <td>NaN</td>\n",
       "    </tr>\n",
       "  </tbody>\n",
       "</table>\n",
       "</div>"
      ],
      "text/plain": [
       "  Series_reference   Period  Data_value  Suppressed STATUS    UNITS  \\\n",
       "0      WTSQ.SFA1CA  1995.03     2368.69         NaN      F  Dollars   \n",
       "1      WTSQ.SFA1CA  1995.06     2100.44         NaN      F  Dollars   \n",
       "2      WTSQ.SFA1CA  1995.09     2070.21         NaN      F  Dollars   \n",
       "3      WTSQ.SFA1CA  1995.12     2284.77         NaN      F  Dollars   \n",
       "4      WTSQ.SFA1CA  1996.03     2134.76         NaN      F  Dollars   \n",
       "\n",
       "   Magnitude                       Subject  \\\n",
       "0          6  Wholesale Trade Survey - WTS   \n",
       "1          6  Wholesale Trade Survey - WTS   \n",
       "2          6  Wholesale Trade Survey - WTS   \n",
       "3          6  Wholesale Trade Survey - WTS   \n",
       "4          6  Wholesale Trade Survey - WTS   \n",
       "\n",
       "                                               Group  \\\n",
       "0  Industry by variable - (ANZSIC06) - Subannual ...   \n",
       "1  Industry by variable - (ANZSIC06) - Subannual ...   \n",
       "2  Industry by variable - (ANZSIC06) - Subannual ...   \n",
       "3  Industry by variable - (ANZSIC06) - Subannual ...   \n",
       "4  Industry by variable - (ANZSIC06) - Subannual ...   \n",
       "\n",
       "               Series_title_1            Series_title_2  Series_title_3  \\\n",
       "0  Basic material wholesaling  Sales (operating income)  Current prices   \n",
       "1  Basic material wholesaling  Sales (operating income)  Current prices   \n",
       "2  Basic material wholesaling  Sales (operating income)  Current prices   \n",
       "3  Basic material wholesaling  Sales (operating income)  Current prices   \n",
       "4  Basic material wholesaling  Sales (operating income)  Current prices   \n",
       "\n",
       "  Series_title_4 Series_title_5  \n",
       "0     Unadjusted            NaN  \n",
       "1     Unadjusted            NaN  \n",
       "2     Unadjusted            NaN  \n",
       "3     Unadjusted            NaN  \n",
       "4     Unadjusted            NaN  "
      ]
     },
     "execution_count": 69,
     "metadata": {},
     "output_type": "execute_result"
    }
   ],
   "source": [
    "survey = pd.read_csv(r\"C:\\Users\\Cassi\\OneDrive\\Documents\\Wholesale Trade Survey - love circular data.csv\")\n",
    "survey.head()"
   ]
  },
  {
   "cell_type": "code",
   "execution_count": 70,
   "metadata": {},
   "outputs": [
    {
     "data": {
      "text/html": [
       "<div>\n",
       "<style scoped>\n",
       "    .dataframe tbody tr th:only-of-type {\n",
       "        vertical-align: middle;\n",
       "    }\n",
       "\n",
       "    .dataframe tbody tr th {\n",
       "        vertical-align: top;\n",
       "    }\n",
       "\n",
       "    .dataframe thead th {\n",
       "        text-align: right;\n",
       "    }\n",
       "</style>\n",
       "<table border=\"1\" class=\"dataframe\">\n",
       "  <thead>\n",
       "    <tr style=\"text-align: right;\">\n",
       "      <th></th>\n",
       "      <th>Period</th>\n",
       "      <th>Data_value</th>\n",
       "      <th>Suppressed</th>\n",
       "      <th>Magnitude</th>\n",
       "    </tr>\n",
       "  </thead>\n",
       "  <tbody>\n",
       "    <tr>\n",
       "      <th>count</th>\n",
       "      <td>5096.000000</td>\n",
       "      <td>4942.000000</td>\n",
       "      <td>0.0</td>\n",
       "      <td>5096.000000</td>\n",
       "    </tr>\n",
       "    <tr>\n",
       "      <th>mean</th>\n",
       "      <td>2008.479243</td>\n",
       "      <td>3758.484008</td>\n",
       "      <td>NaN</td>\n",
       "      <td>5.489011</td>\n",
       "    </tr>\n",
       "    <tr>\n",
       "      <th>std</th>\n",
       "      <td>7.997333</td>\n",
       "      <td>5116.786049</td>\n",
       "      <td>NaN</td>\n",
       "      <td>1.674925</td>\n",
       "    </tr>\n",
       "    <tr>\n",
       "      <th>min</th>\n",
       "      <td>1995.030000</td>\n",
       "      <td>-27.800000</td>\n",
       "      <td>NaN</td>\n",
       "      <td>0.000000</td>\n",
       "    </tr>\n",
       "    <tr>\n",
       "      <th>25%</th>\n",
       "      <td>2001.120000</td>\n",
       "      <td>994.170000</td>\n",
       "      <td>NaN</td>\n",
       "      <td>6.000000</td>\n",
       "    </tr>\n",
       "    <tr>\n",
       "      <th>50%</th>\n",
       "      <td>2008.120000</td>\n",
       "      <td>2133.723000</td>\n",
       "      <td>NaN</td>\n",
       "      <td>6.000000</td>\n",
       "    </tr>\n",
       "    <tr>\n",
       "      <th>75%</th>\n",
       "      <td>2015.120000</td>\n",
       "      <td>4265.948000</td>\n",
       "      <td>NaN</td>\n",
       "      <td>6.000000</td>\n",
       "    </tr>\n",
       "    <tr>\n",
       "      <th>max</th>\n",
       "      <td>2022.090000</td>\n",
       "      <td>38858.407000</td>\n",
       "      <td>NaN</td>\n",
       "      <td>6.000000</td>\n",
       "    </tr>\n",
       "  </tbody>\n",
       "</table>\n",
       "</div>"
      ],
      "text/plain": [
       "            Period    Data_value  Suppressed    Magnitude\n",
       "count  5096.000000   4942.000000         0.0  5096.000000\n",
       "mean   2008.479243   3758.484008         NaN     5.489011\n",
       "std       7.997333   5116.786049         NaN     1.674925\n",
       "min    1995.030000    -27.800000         NaN     0.000000\n",
       "25%    2001.120000    994.170000         NaN     6.000000\n",
       "50%    2008.120000   2133.723000         NaN     6.000000\n",
       "75%    2015.120000   4265.948000         NaN     6.000000\n",
       "max    2022.090000  38858.407000         NaN     6.000000"
      ]
     },
     "execution_count": 70,
     "metadata": {},
     "output_type": "execute_result"
    }
   ],
   "source": [
    "survey.describe()"
   ]
  },
  {
   "cell_type": "code",
   "execution_count": 71,
   "metadata": {},
   "outputs": [],
   "source": [
    "##average_test_score = df[\"Test_scores\"].median()\n",
    "\n",
    "##df[\"Test_scores\"].fillna(average_test_score, inplace = False)\n",
    "\n"
   ]
  },
  {
   "cell_type": "code",
   "execution_count": 72,
   "metadata": {
    "scrolled": true
   },
   "outputs": [
    {
     "data": {
      "text/html": [
       "<div>\n",
       "<style scoped>\n",
       "    .dataframe tbody tr th:only-of-type {\n",
       "        vertical-align: middle;\n",
       "    }\n",
       "\n",
       "    .dataframe tbody tr th {\n",
       "        vertical-align: top;\n",
       "    }\n",
       "\n",
       "    .dataframe thead th {\n",
       "        text-align: right;\n",
       "    }\n",
       "</style>\n",
       "<table border=\"1\" class=\"dataframe\">\n",
       "  <thead>\n",
       "    <tr style=\"text-align: right;\">\n",
       "      <th></th>\n",
       "      <th>Series_reference</th>\n",
       "      <th>Period</th>\n",
       "      <th>Data_value</th>\n",
       "      <th>Suppressed</th>\n",
       "      <th>STATUS</th>\n",
       "      <th>UNITS</th>\n",
       "      <th>Magnitude</th>\n",
       "      <th>Subject</th>\n",
       "      <th>Group</th>\n",
       "      <th>Series_title_1</th>\n",
       "      <th>Series_title_2</th>\n",
       "      <th>Series_title_3</th>\n",
       "      <th>Series_title_4</th>\n",
       "      <th>Series_title_5</th>\n",
       "    </tr>\n",
       "  </thead>\n",
       "  <tbody>\n",
       "    <tr>\n",
       "      <th>0</th>\n",
       "      <td>WTSQ.SFA1CA</td>\n",
       "      <td>1995.03</td>\n",
       "      <td>2368.69</td>\n",
       "      <td>0.0</td>\n",
       "      <td>F</td>\n",
       "      <td>Dollars</td>\n",
       "      <td>6</td>\n",
       "      <td>Wholesale Trade Survey - WTS</td>\n",
       "      <td>Industry by variable - (ANZSIC06) - Subannual ...</td>\n",
       "      <td>Basic material wholesaling</td>\n",
       "      <td>Sales (operating income)</td>\n",
       "      <td>Current prices</td>\n",
       "      <td>Unadjusted</td>\n",
       "      <td>0</td>\n",
       "    </tr>\n",
       "    <tr>\n",
       "      <th>1</th>\n",
       "      <td>WTSQ.SFA1CA</td>\n",
       "      <td>1995.06</td>\n",
       "      <td>2100.44</td>\n",
       "      <td>0.0</td>\n",
       "      <td>F</td>\n",
       "      <td>Dollars</td>\n",
       "      <td>6</td>\n",
       "      <td>Wholesale Trade Survey - WTS</td>\n",
       "      <td>Industry by variable - (ANZSIC06) - Subannual ...</td>\n",
       "      <td>Basic material wholesaling</td>\n",
       "      <td>Sales (operating income)</td>\n",
       "      <td>Current prices</td>\n",
       "      <td>Unadjusted</td>\n",
       "      <td>0</td>\n",
       "    </tr>\n",
       "    <tr>\n",
       "      <th>2</th>\n",
       "      <td>WTSQ.SFA1CA</td>\n",
       "      <td>1995.09</td>\n",
       "      <td>2070.21</td>\n",
       "      <td>0.0</td>\n",
       "      <td>F</td>\n",
       "      <td>Dollars</td>\n",
       "      <td>6</td>\n",
       "      <td>Wholesale Trade Survey - WTS</td>\n",
       "      <td>Industry by variable - (ANZSIC06) - Subannual ...</td>\n",
       "      <td>Basic material wholesaling</td>\n",
       "      <td>Sales (operating income)</td>\n",
       "      <td>Current prices</td>\n",
       "      <td>Unadjusted</td>\n",
       "      <td>0</td>\n",
       "    </tr>\n",
       "    <tr>\n",
       "      <th>3</th>\n",
       "      <td>WTSQ.SFA1CA</td>\n",
       "      <td>1995.12</td>\n",
       "      <td>2284.77</td>\n",
       "      <td>0.0</td>\n",
       "      <td>F</td>\n",
       "      <td>Dollars</td>\n",
       "      <td>6</td>\n",
       "      <td>Wholesale Trade Survey - WTS</td>\n",
       "      <td>Industry by variable - (ANZSIC06) - Subannual ...</td>\n",
       "      <td>Basic material wholesaling</td>\n",
       "      <td>Sales (operating income)</td>\n",
       "      <td>Current prices</td>\n",
       "      <td>Unadjusted</td>\n",
       "      <td>0</td>\n",
       "    </tr>\n",
       "    <tr>\n",
       "      <th>4</th>\n",
       "      <td>WTSQ.SFA1CA</td>\n",
       "      <td>1996.03</td>\n",
       "      <td>2134.76</td>\n",
       "      <td>0.0</td>\n",
       "      <td>F</td>\n",
       "      <td>Dollars</td>\n",
       "      <td>6</td>\n",
       "      <td>Wholesale Trade Survey - WTS</td>\n",
       "      <td>Industry by variable - (ANZSIC06) - Subannual ...</td>\n",
       "      <td>Basic material wholesaling</td>\n",
       "      <td>Sales (operating income)</td>\n",
       "      <td>Current prices</td>\n",
       "      <td>Unadjusted</td>\n",
       "      <td>0</td>\n",
       "    </tr>\n",
       "  </tbody>\n",
       "</table>\n",
       "</div>"
      ],
      "text/plain": [
       "  Series_reference   Period  Data_value  Suppressed STATUS    UNITS  \\\n",
       "0      WTSQ.SFA1CA  1995.03     2368.69         0.0      F  Dollars   \n",
       "1      WTSQ.SFA1CA  1995.06     2100.44         0.0      F  Dollars   \n",
       "2      WTSQ.SFA1CA  1995.09     2070.21         0.0      F  Dollars   \n",
       "3      WTSQ.SFA1CA  1995.12     2284.77         0.0      F  Dollars   \n",
       "4      WTSQ.SFA1CA  1996.03     2134.76         0.0      F  Dollars   \n",
       "\n",
       "   Magnitude                       Subject  \\\n",
       "0          6  Wholesale Trade Survey - WTS   \n",
       "1          6  Wholesale Trade Survey - WTS   \n",
       "2          6  Wholesale Trade Survey - WTS   \n",
       "3          6  Wholesale Trade Survey - WTS   \n",
       "4          6  Wholesale Trade Survey - WTS   \n",
       "\n",
       "                                               Group  \\\n",
       "0  Industry by variable - (ANZSIC06) - Subannual ...   \n",
       "1  Industry by variable - (ANZSIC06) - Subannual ...   \n",
       "2  Industry by variable - (ANZSIC06) - Subannual ...   \n",
       "3  Industry by variable - (ANZSIC06) - Subannual ...   \n",
       "4  Industry by variable - (ANZSIC06) - Subannual ...   \n",
       "\n",
       "               Series_title_1            Series_title_2  Series_title_3  \\\n",
       "0  Basic material wholesaling  Sales (operating income)  Current prices   \n",
       "1  Basic material wholesaling  Sales (operating income)  Current prices   \n",
       "2  Basic material wholesaling  Sales (operating income)  Current prices   \n",
       "3  Basic material wholesaling  Sales (operating income)  Current prices   \n",
       "4  Basic material wholesaling  Sales (operating income)  Current prices   \n",
       "\n",
       "  Series_title_4 Series_title_5  \n",
       "0     Unadjusted              0  \n",
       "1     Unadjusted              0  \n",
       "2     Unadjusted              0  \n",
       "3     Unadjusted              0  \n",
       "4     Unadjusted              0  "
      ]
     },
     "execution_count": 72,
     "metadata": {},
     "output_type": "execute_result"
    }
   ],
   "source": [
    "df_clean = survey.fillna(0, inplace = False) \n",
    "\n",
    "df_2 = pd.DataFrame(df_clean)\n",
    "\n",
    "df_2.head()"
   ]
  },
  {
   "cell_type": "code",
   "execution_count": 73,
   "metadata": {},
   "outputs": [
    {
     "data": {
      "text/plain": [
       "<matplotlib.axes._subplots.AxesSubplot at 0x1f3a389c648>"
      ]
     },
     "execution_count": 73,
     "metadata": {},
     "output_type": "execute_result"
    },
    {
     "data": {
      "image/png": "[encoded data removed]",
      "text/plain": [
       "<Figure size 432x288 with 1 Axes>"
      ]
     },
     "metadata": {
      "needs_background": "light"
     },
     "output_type": "display_data"
    }
   ],
   "source": [
    "age_list = [8, 10, 12, 14, 72, 74, 76, 78, 20, 25, 30, 35, 60, 85]\n",
    "df = pd.DataFrame({\"gender\": list(\"MMMMMMMMFFFFFF\"), \"age\": age_list})\n",
    "df.plot()"
   ]
  },
  {
   "cell_type": "code",
   "execution_count": 74,
   "metadata": {},
   "outputs": [],
   "source": [
    "import matplotlib.pyplot as plt"
   ]
  },
  {
   "cell_type": "code",
   "execution_count": 75,
   "metadata": {},
   "outputs": [
    {
     "data": {
      "text/plain": [
       "<matplotlib.axes._subplots.AxesSubplot at 0x1f3a44a31c8>"
      ]
     },
     "execution_count": 75,
     "metadata": {},
     "output_type": "execute_result"
    },
    {
     "data": {
      "image/png": "[encoded data removed]",
      "text/plain": [
       "<Figure size 432x288 with 1 Axes>"
      ]
     },
     "metadata": {
      "needs_background": "light"
     },
     "output_type": "display_data"
    }
   ],
   "source": [
    "survey.plot(kind = \"scatter\", x = \"UNITS\", y = \"Data_value\")"
   ]
  },
  {
   "cell_type": "code",
   "execution_count": 76,
   "metadata": {},
   "outputs": [
    {
     "data": {
      "text/html": [
       "<div>\n",
       "<style scoped>\n",
       "    .dataframe tbody tr th:only-of-type {\n",
       "        vertical-align: middle;\n",
       "    }\n",
       "\n",
       "    .dataframe tbody tr th {\n",
       "        vertical-align: top;\n",
       "    }\n",
       "\n",
       "    .dataframe thead th {\n",
       "        text-align: right;\n",
       "    }\n",
       "</style>\n",
       "<table border=\"1\" class=\"dataframe\">\n",
       "  <thead>\n",
       "    <tr style=\"text-align: right;\">\n",
       "      <th></th>\n",
       "      <th>brand</th>\n",
       "      <th>price</th>\n",
       "    </tr>\n",
       "  </thead>\n",
       "  <tbody>\n",
       "    <tr>\n",
       "      <th>0</th>\n",
       "      <td>BMW</td>\n",
       "      <td>10000</td>\n",
       "    </tr>\n",
       "    <tr>\n",
       "      <th>1</th>\n",
       "      <td>Ford</td>\n",
       "      <td>3000</td>\n",
       "    </tr>\n",
       "    <tr>\n",
       "      <th>2</th>\n",
       "      <td>Nissan</td>\n",
       "      <td>6000</td>\n",
       "    </tr>\n",
       "    <tr>\n",
       "      <th>3</th>\n",
       "      <td>Ford</td>\n",
       "      <td>3000</td>\n",
       "    </tr>\n",
       "    <tr>\n",
       "      <th>4</th>\n",
       "      <td>Ford</td>\n",
       "      <td>3000</td>\n",
       "    </tr>\n",
       "  </tbody>\n",
       "</table>\n",
       "</div>"
      ],
      "text/plain": [
       "    brand  price\n",
       "0     BMW  10000\n",
       "1    Ford   3000\n",
       "2  Nissan   6000\n",
       "3    Ford   3000\n",
       "4    Ford   3000"
      ]
     },
     "execution_count": 76,
     "metadata": {},
     "output_type": "execute_result"
    }
   ],
   "source": [
    "cars = { \"brand\": [\"BMW\", \"Ford\", \"Nissan\", \"Ford\", \"Ford\", \"Mazda\"],\n",
    " \"price\": [10000,3000,6000,3000,3000,0]\n",
    " }\n",
    "\n",
    "df = pd.DataFrame(cars)\n",
    "df.head()"
   ]
  },
  {
   "cell_type": "code",
   "execution_count": 77,
   "metadata": {},
   "outputs": [
    {
     "data": {
      "text/html": [
       "<div>\n",
       "<style scoped>\n",
       "    .dataframe tbody tr th:only-of-type {\n",
       "        vertical-align: middle;\n",
       "    }\n",
       "\n",
       "    .dataframe tbody tr th {\n",
       "        vertical-align: top;\n",
       "    }\n",
       "\n",
       "    .dataframe thead th {\n",
       "        text-align: right;\n",
       "    }\n",
       "</style>\n",
       "<table border=\"1\" class=\"dataframe\">\n",
       "  <thead>\n",
       "    <tr style=\"text-align: right;\">\n",
       "      <th></th>\n",
       "      <th>brand</th>\n",
       "      <th>price</th>\n",
       "    </tr>\n",
       "  </thead>\n",
       "  <tbody>\n",
       "    <tr>\n",
       "      <th>0</th>\n",
       "      <td>BMW</td>\n",
       "      <td>10000</td>\n",
       "    </tr>\n",
       "    <tr>\n",
       "      <th>2</th>\n",
       "      <td>Nissan</td>\n",
       "      <td>6000</td>\n",
       "    </tr>\n",
       "    <tr>\n",
       "      <th>4</th>\n",
       "      <td>Ford</td>\n",
       "      <td>3000</td>\n",
       "    </tr>\n",
       "    <tr>\n",
       "      <th>5</th>\n",
       "      <td>Mazda</td>\n",
       "      <td>0</td>\n",
       "    </tr>\n",
       "  </tbody>\n",
       "</table>\n",
       "</div>"
      ],
      "text/plain": [
       "    brand  price\n",
       "0     BMW  10000\n",
       "2  Nissan   6000\n",
       "4    Ford   3000\n",
       "5   Mazda      0"
      ]
     },
     "execution_count": 77,
     "metadata": {},
     "output_type": "execute_result"
    }
   ],
   "source": [
    "clean_df = df.drop_duplicates(subset = [\"brand\"], keep = \"last\")\n",
    "\n",
    "clean_df.head()"
   ]
  },
  {
   "cell_type": "code",
   "execution_count": 78,
   "metadata": {},
   "outputs": [
    {
     "ename": "TypeError",
     "evalue": "'int' object is not callable",
     "output_type": "error",
     "traceback": [
      "\u001b[1;31m---------------------------------------------------------------------------\u001b[0m",
      "\u001b[1;31mTypeError\u001b[0m                                 Traceback (most recent call last)",
      "\u001b[1;32m<ipython-input-78-21c194b3592b>\u001b[0m in \u001b[0;36m<module>\u001b[1;34m\u001b[0m\n\u001b[0;32m      1\u001b[0m \u001b[0mdata\u001b[0m \u001b[1;33m=\u001b[0m \u001b[1;33m[\u001b[0m\u001b[1;36m4\u001b[0m\u001b[1;33m,\u001b[0m\u001b[1;36m7\u001b[0m\u001b[1;33m,\u001b[0m\u001b[1;36m9\u001b[0m\u001b[1;33m,\u001b[0m\u001b[1;36m2\u001b[0m\u001b[1;33m,\u001b[0m\u001b[1;36m6\u001b[0m\u001b[1;33m]\u001b[0m\u001b[1;33m\u001b[0m\u001b[1;33m\u001b[0m\u001b[0m\n\u001b[1;32m----> 2\u001b[1;33m \u001b[0mmean\u001b[0m \u001b[1;33m=\u001b[0m \u001b[0msum\u001b[0m\u001b[1;33m(\u001b[0m\u001b[0mdata\u001b[0m\u001b[1;33m)\u001b[0m \u001b[1;33m/\u001b[0m \u001b[0mlen\u001b[0m\u001b[1;33m(\u001b[0m\u001b[0mdata\u001b[0m\u001b[1;33m)\u001b[0m\u001b[1;33m\u001b[0m\u001b[1;33m\u001b[0m\u001b[0m\n\u001b[0m\u001b[0;32m      3\u001b[0m \u001b[1;33m\u001b[0m\u001b[0m\n\u001b[0;32m      4\u001b[0m \u001b[0mprint\u001b[0m\u001b[1;33m(\u001b[0m\u001b[0mmean\u001b[0m\u001b[1;33m)\u001b[0m\u001b[1;33m\u001b[0m\u001b[1;33m\u001b[0m\u001b[0m\n",
      "\u001b[1;31mTypeError\u001b[0m: 'int' object is not callable"
     ]
    }
   ],
   "source": [
    "data = [4,7,9,2,6]\n",
    "mean = sum(data) / len(data)\n",
    "\n",
    "print(mean)"
   ]
  },
  {
   "cell_type": "code",
   "execution_count": 79,
   "metadata": {},
   "outputs": [],
   "source": [
    "def calculate_median(data):\n",
    "    sorted_data = sorted(data)\n",
    "    length = len(data)\n",
    "    if length % 2 == 0:\n",
    "        median = (sorted_data[length // 2 - 1] + sorted_data[length // 2]) / 2\n",
    "    else:\n",
    "        median = sorted_data[length // 2]\n",
    "    return median    "
   ]
  },
  {
   "cell_type": "code",
   "execution_count": 80,
   "metadata": {},
   "outputs": [
    {
     "data": {
      "text/plain": [
       "[3, 4, 8, 9, 98, 100, 245]"
      ]
     },
     "execution_count": 80,
     "metadata": {},
     "output_type": "execute_result"
    }
   ],
   "source": [
    "test_data = [4,8,100,245,9,98,3]\n",
    "\n",
    "sorted(test_data)"
   ]
  },
  {
   "cell_type": "code",
   "execution_count": 81,
   "metadata": {},
   "outputs": [],
   "source": [
    "import numpy as np"
   ]
  },
  {
   "cell_type": "code",
   "execution_count": 82,
   "metadata": {},
   "outputs": [
    {
     "name": "stdout",
     "output_type": "stream",
     "text": [
      "9.0\n"
     ]
    }
   ],
   "source": [
    "test_data = [4,8,100,245,9,98,3]\n",
    "\n",
    "median = np.median(test_data)\n",
    "\n",
    "print(median)"
   ]
  },
  {
   "cell_type": "code",
   "execution_count": 83,
   "metadata": {},
   "outputs": [],
   "source": [
    "from scipy import stats"
   ]
  },
  {
   "cell_type": "code",
   "execution_count": 84,
   "metadata": {},
   "outputs": [
    {
     "name": "stdout",
     "output_type": "stream",
     "text": [
      "ModeResult(mode=array([86]), count=array([3]))\n"
     ]
    }
   ],
   "source": [
    "data = [99,86,87,88,111,86,103,87,94,78,77,85,86]\n",
    "\n",
    "x = stats.mode(data)\n",
    "\n",
    "print(x)"
   ]
  },
  {
   "cell_type": "code",
   "execution_count": 85,
   "metadata": {},
   "outputs": [],
   "source": [
    "from collections import Counter\n",
    "\n",
    "def calculate_mode(data):\n",
    "    counter = Counter(data)\n",
    "    modes = counter.most_common()\n",
    "    max_count = modes[0][1]\n",
    "    mode_values = [mode for mode, count in modes if count == max_count]\n",
    "    return mode_values"
   ]
  },
  {
   "cell_type": "code",
   "execution_count": 86,
   "metadata": {},
   "outputs": [
    {
     "name": "stdout",
     "output_type": "stream",
     "text": [
      "[4, 7]\n"
     ]
    }
   ],
   "source": [
    "data = [4, 7, 9, 2, 6, 4, 7,]\n",
    "modes = calculate_mode(data)\n",
    "print(modes)"
   ]
  },
  {
   "cell_type": "markdown",
   "metadata": {},
   "source": [
    "# AirBnb Project"
   ]
  },
  {
   "cell_type": "code",
   "execution_count": 87,
   "metadata": {},
   "outputs": [],
   "source": [
    "import pandas as pd\n",
    "import numpy as np"
   ]
  },
  {
   "cell_type": "code",
   "execution_count": 88,
   "metadata": {},
   "outputs": [
    {
     "name": "stderr",
     "output_type": "stream",
     "text": [
      "C:\\Users\\Cassi\\anaconda3\\lib\\site-packages\\IPython\\core\\interactiveshell.py:3063: DtypeWarning: Columns (25) have mixed types.Specify dtype option on import or set low_memory=False.\n",
      "  interactivity=interactivity, compiler=compiler, result=result)\n"
     ]
    },
    {
     "data": {
      "text/html": [
       "<div>\n",
       "<style scoped>\n",
       "    .dataframe tbody tr th:only-of-type {\n",
       "        vertical-align: middle;\n",
       "    }\n",
       "\n",
       "    .dataframe tbody tr th {\n",
       "        vertical-align: top;\n",
       "    }\n",
       "\n",
       "    .dataframe thead th {\n",
       "        text-align: right;\n",
       "    }\n",
       "</style>\n",
       "<table border=\"1\" class=\"dataframe\">\n",
       "  <thead>\n",
       "    <tr style=\"text-align: right;\">\n",
       "      <th></th>\n",
       "      <th>id</th>\n",
       "      <th>NAME</th>\n",
       "      <th>host id</th>\n",
       "      <th>host_identity_verified</th>\n",
       "      <th>host name</th>\n",
       "      <th>neighbourhood group</th>\n",
       "      <th>neighbourhood</th>\n",
       "      <th>lat</th>\n",
       "      <th>long</th>\n",
       "      <th>country</th>\n",
       "      <th>...</th>\n",
       "      <th>service fee</th>\n",
       "      <th>minimum nights</th>\n",
       "      <th>number of reviews</th>\n",
       "      <th>last review</th>\n",
       "      <th>reviews per month</th>\n",
       "      <th>review rate number</th>\n",
       "      <th>calculated host listings count</th>\n",
       "      <th>availability 365</th>\n",
       "      <th>house_rules</th>\n",
       "      <th>license</th>\n",
       "    </tr>\n",
       "  </thead>\n",
       "  <tbody>\n",
       "    <tr>\n",
       "      <th>0</th>\n",
       "      <td>1001254</td>\n",
       "      <td>Clean &amp; quiet apt home by the park</td>\n",
       "      <td>80014485718</td>\n",
       "      <td>unconfirmed</td>\n",
       "      <td>Madaline</td>\n",
       "      <td>Brooklyn</td>\n",
       "      <td>Kensington</td>\n",
       "      <td>40.64749</td>\n",
       "      <td>-73.97237</td>\n",
       "      <td>United States</td>\n",
       "      <td>...</td>\n",
       "      <td>$193</td>\n",
       "      <td>10.0</td>\n",
       "      <td>9.0</td>\n",
       "      <td>10/19/2021</td>\n",
       "      <td>0.21</td>\n",
       "      <td>4.0</td>\n",
       "      <td>6.0</td>\n",
       "      <td>286.0</td>\n",
       "      <td>Clean up and treat the home the way you'd like...</td>\n",
       "      <td>NaN</td>\n",
       "    </tr>\n",
       "    <tr>\n",
       "      <th>1</th>\n",
       "      <td>1002102</td>\n",
       "      <td>Skylit Midtown Castle</td>\n",
       "      <td>52335172823</td>\n",
       "      <td>verified</td>\n",
       "      <td>Jenna</td>\n",
       "      <td>Manhattan</td>\n",
       "      <td>Midtown</td>\n",
       "      <td>40.75362</td>\n",
       "      <td>-73.98377</td>\n",
       "      <td>United States</td>\n",
       "      <td>...</td>\n",
       "      <td>$28</td>\n",
       "      <td>30.0</td>\n",
       "      <td>45.0</td>\n",
       "      <td>5/21/2022</td>\n",
       "      <td>0.38</td>\n",
       "      <td>4.0</td>\n",
       "      <td>2.0</td>\n",
       "      <td>228.0</td>\n",
       "      <td>Pet friendly but please confirm with me if the...</td>\n",
       "      <td>NaN</td>\n",
       "    </tr>\n",
       "    <tr>\n",
       "      <th>2</th>\n",
       "      <td>1002403</td>\n",
       "      <td>THE VILLAGE OF HARLEM....NEW YORK !</td>\n",
       "      <td>78829239556</td>\n",
       "      <td>NaN</td>\n",
       "      <td>Elise</td>\n",
       "      <td>Manhattan</td>\n",
       "      <td>Harlem</td>\n",
       "      <td>40.80902</td>\n",
       "      <td>-73.94190</td>\n",
       "      <td>United States</td>\n",
       "      <td>...</td>\n",
       "      <td>$124</td>\n",
       "      <td>3.0</td>\n",
       "      <td>0.0</td>\n",
       "      <td>NaN</td>\n",
       "      <td>NaN</td>\n",
       "      <td>5.0</td>\n",
       "      <td>1.0</td>\n",
       "      <td>352.0</td>\n",
       "      <td>I encourage you to use my kitchen, cooking and...</td>\n",
       "      <td>NaN</td>\n",
       "    </tr>\n",
       "    <tr>\n",
       "      <th>3</th>\n",
       "      <td>1002755</td>\n",
       "      <td>NaN</td>\n",
       "      <td>85098326012</td>\n",
       "      <td>unconfirmed</td>\n",
       "      <td>Garry</td>\n",
       "      <td>Brooklyn</td>\n",
       "      <td>Clinton Hill</td>\n",
       "      <td>40.68514</td>\n",
       "      <td>-73.95976</td>\n",
       "      <td>United States</td>\n",
       "      <td>...</td>\n",
       "      <td>$74</td>\n",
       "      <td>30.0</td>\n",
       "      <td>270.0</td>\n",
       "      <td>7/5/2019</td>\n",
       "      <td>4.64</td>\n",
       "      <td>4.0</td>\n",
       "      <td>1.0</td>\n",
       "      <td>322.0</td>\n",
       "      <td>NaN</td>\n",
       "      <td>NaN</td>\n",
       "    </tr>\n",
       "    <tr>\n",
       "      <th>4</th>\n",
       "      <td>1003689</td>\n",
       "      <td>Entire Apt: Spacious Studio/Loft by central park</td>\n",
       "      <td>92037596077</td>\n",
       "      <td>verified</td>\n",
       "      <td>Lyndon</td>\n",
       "      <td>Manhattan</td>\n",
       "      <td>East Harlem</td>\n",
       "      <td>40.79851</td>\n",
       "      <td>-73.94399</td>\n",
       "      <td>United States</td>\n",
       "      <td>...</td>\n",
       "      <td>$41</td>\n",
       "      <td>10.0</td>\n",
       "      <td>9.0</td>\n",
       "      <td>11/19/2018</td>\n",
       "      <td>0.10</td>\n",
       "      <td>3.0</td>\n",
       "      <td>1.0</td>\n",
       "      <td>289.0</td>\n",
       "      <td>Please no smoking in the house, porch or on th...</td>\n",
       "      <td>NaN</td>\n",
       "    </tr>\n",
       "  </tbody>\n",
       "</table>\n",
       "<p>5 rows × 26 columns</p>\n",
       "</div>"
      ],
      "text/plain": [
       "        id                                              NAME      host id  \\\n",
       "0  1001254                Clean & quiet apt home by the park  80014485718   \n",
       "1  1002102                             Skylit Midtown Castle  52335172823   \n",
       "2  1002403               THE VILLAGE OF HARLEM....NEW YORK !  78829239556   \n",
       "3  1002755                                               NaN  85098326012   \n",
       "4  1003689  Entire Apt: Spacious Studio/Loft by central park  92037596077   \n",
       "\n",
       "  host_identity_verified host name neighbourhood group neighbourhood  \\\n",
       "0            unconfirmed  Madaline            Brooklyn    Kensington   \n",
       "1               verified     Jenna           Manhattan       Midtown   \n",
       "2                    NaN     Elise           Manhattan        Harlem   \n",
       "3            unconfirmed     Garry            Brooklyn  Clinton Hill   \n",
       "4               verified    Lyndon           Manhattan   East Harlem   \n",
       "\n",
       "        lat      long        country  ... service fee minimum nights  \\\n",
       "0  40.64749 -73.97237  United States  ...       $193            10.0   \n",
       "1  40.75362 -73.98377  United States  ...        $28            30.0   \n",
       "2  40.80902 -73.94190  United States  ...       $124             3.0   \n",
       "3  40.68514 -73.95976  United States  ...        $74            30.0   \n",
       "4  40.79851 -73.94399  United States  ...        $41            10.0   \n",
       "\n",
       "  number of reviews last review  reviews per month review rate number  \\\n",
       "0               9.0  10/19/2021               0.21                4.0   \n",
       "1              45.0   5/21/2022               0.38                4.0   \n",
       "2               0.0         NaN                NaN                5.0   \n",
       "3             270.0    7/5/2019               4.64                4.0   \n",
       "4               9.0  11/19/2018               0.10                3.0   \n",
       "\n",
       "  calculated host listings count  availability 365  \\\n",
       "0                            6.0             286.0   \n",
       "1                            2.0             228.0   \n",
       "2                            1.0             352.0   \n",
       "3                            1.0             322.0   \n",
       "4                            1.0             289.0   \n",
       "\n",
       "                                         house_rules license  \n",
       "0  Clean up and treat the home the way you'd like...     NaN  \n",
       "1  Pet friendly but please confirm with me if the...     NaN  \n",
       "2  I encourage you to use my kitchen, cooking and...     NaN  \n",
       "3                                                NaN     NaN  \n",
       "4  Please no smoking in the house, porch or on th...     NaN  \n",
       "\n",
       "[5 rows x 26 columns]"
      ]
     },
     "execution_count": 88,
     "metadata": {},
     "output_type": "execute_result"
    }
   ],
   "source": [
    "airbnb = pd.read_csv(r\"C:\\Users\\Cassi\\OneDrive\\Documents\\Airbnb_Open_Data.csv\")\n",
    "\n",
    "airbnb.head()"
   ]
  },
  {
   "cell_type": "code",
   "execution_count": 89,
   "metadata": {},
   "outputs": [
    {
     "data": {
      "text/plain": [
       "['NAME',\n",
       " 'host_identity_verified',\n",
       " 'host name',\n",
       " 'neighbourhood group',\n",
       " 'neighbourhood',\n",
       " 'lat',\n",
       " 'long',\n",
       " 'country',\n",
       " 'country code',\n",
       " 'instant_bookable',\n",
       " 'cancellation_policy',\n",
       " 'Construction year',\n",
       " 'price',\n",
       " 'service fee',\n",
       " 'minimum nights',\n",
       " 'number of reviews',\n",
       " 'last review',\n",
       " 'reviews per month',\n",
       " 'review rate number',\n",
       " 'calculated host listings count',\n",
       " 'availability 365',\n",
       " 'house_rules',\n",
       " 'license']"
      ]
     },
     "execution_count": 89,
     "metadata": {},
     "output_type": "execute_result"
    }
   ],
   "source": [
    "airbnb.columns[airbnb.isna().any()].tolist()"
   ]
  },
  {
   "cell_type": "code",
   "execution_count": 90,
   "metadata": {},
   "outputs": [
    {
     "data": {
      "text/plain": [
       "id                                     0\n",
       "NAME                                 250\n",
       "host id                                0\n",
       "host_identity_verified               289\n",
       "host name                            406\n",
       "neighbourhood group                   29\n",
       "neighbourhood                         16\n",
       "lat                                    8\n",
       "long                                   8\n",
       "country                              532\n",
       "country code                         131\n",
       "instant_bookable                     105\n",
       "cancellation_policy                   76\n",
       "room type                              0\n",
       "Construction year                    214\n",
       "price                                247\n",
       "service fee                          273\n",
       "minimum nights                       409\n",
       "number of reviews                    183\n",
       "last review                        15893\n",
       "reviews per month                  15879\n",
       "review rate number                   326\n",
       "calculated host listings count       319\n",
       "availability 365                     448\n",
       "house_rules                        52131\n",
       "license                           102597\n",
       "dtype: int64"
      ]
     },
     "execution_count": 90,
     "metadata": {},
     "output_type": "execute_result"
    }
   ],
   "source": [
    "airbnb.isna().sum()"
   ]
  },
  {
   "cell_type": "code",
   "execution_count": 91,
   "metadata": {},
   "outputs": [
    {
     "data": {
      "text/plain": [
       "0         unconfirmed\n",
       "1            verified\n",
       "2         unconfirmed\n",
       "3         unconfirmed\n",
       "4            verified\n",
       "             ...     \n",
       "102594       verified\n",
       "102595    unconfirmed\n",
       "102596    unconfirmed\n",
       "102597    unconfirmed\n",
       "102598    unconfirmed\n",
       "Name: host_identity_verified, Length: 102599, dtype: object"
      ]
     },
     "execution_count": 91,
     "metadata": {},
     "output_type": "execute_result"
    }
   ],
   "source": [
    "airbnb['host_identity_verified'].fillna(\"unconfirmed\")"
   ]
  },
  {
   "cell_type": "code",
   "execution_count": 92,
   "metadata": {},
   "outputs": [],
   "source": [
    "x = airbnb.groupby('neighbourhood group')['review rate number'].median()"
   ]
  },
  {
   "cell_type": "code",
   "execution_count": 93,
   "metadata": {},
   "outputs": [
    {
     "name": "stdout",
     "output_type": "stream",
     "text": [
      "neighbourhood group\n",
      "Bronx            3.0\n",
      "Brooklyn         3.0\n",
      "Manhattan        3.0\n",
      "Queens           3.0\n",
      "Staten Island    3.0\n",
      "brookln          4.0\n",
      "manhatan         3.0\n",
      "Name: review rate number, dtype: float64\n"
     ]
    }
   ],
   "source": [
    "print(x)"
   ]
  },
  {
   "cell_type": "code",
   "execution_count": 94,
   "metadata": {},
   "outputs": [],
   "source": [
    "y = airbnb.groupby('neighbourhood group').id.nunique()"
   ]
  },
  {
   "cell_type": "code",
   "execution_count": 95,
   "metadata": {},
   "outputs": [
    {
     "name": "stdout",
     "output_type": "stream",
     "text": [
      "neighbourhood group\n",
      "Bronx             2694\n",
      "Brooklyn         41630\n",
      "Manhattan        43557\n",
      "Queens           13197\n",
      "Staten Island      949\n",
      "brookln              1\n",
      "manhatan             1\n",
      "Name: id, dtype: int64\n"
     ]
    }
   ],
   "source": [
    "print(y)"
   ]
  },
  {
   "cell_type": "code",
   "execution_count": 96,
   "metadata": {},
   "outputs": [
    {
     "data": {
      "text/html": [
       "<div>\n",
       "<style scoped>\n",
       "    .dataframe tbody tr th:only-of-type {\n",
       "        vertical-align: middle;\n",
       "    }\n",
       "\n",
       "    .dataframe tbody tr th {\n",
       "        vertical-align: top;\n",
       "    }\n",
       "\n",
       "    .dataframe thead th {\n",
       "        text-align: right;\n",
       "    }\n",
       "</style>\n",
       "<table border=\"1\" class=\"dataframe\">\n",
       "  <thead>\n",
       "    <tr style=\"text-align: right;\">\n",
       "      <th></th>\n",
       "      <th>id</th>\n",
       "      <th>host id</th>\n",
       "      <th>lat</th>\n",
       "      <th>long</th>\n",
       "      <th>Construction year</th>\n",
       "      <th>minimum nights</th>\n",
       "      <th>number of reviews</th>\n",
       "      <th>reviews per month</th>\n",
       "      <th>review rate number</th>\n",
       "      <th>calculated host listings count</th>\n",
       "      <th>availability 365</th>\n",
       "    </tr>\n",
       "  </thead>\n",
       "  <tbody>\n",
       "    <tr>\n",
       "      <th>id</th>\n",
       "      <td>1.000000</td>\n",
       "      <td>-0.000830</td>\n",
       "      <td>-0.008832</td>\n",
       "      <td>0.042546</td>\n",
       "      <td>0.001081</td>\n",
       "      <td>0.005668</td>\n",
       "      <td>-0.041530</td>\n",
       "      <td>0.038038</td>\n",
       "      <td>0.036633</td>\n",
       "      <td>0.024296</td>\n",
       "      <td>-0.139226</td>\n",
       "    </tr>\n",
       "    <tr>\n",
       "      <th>host id</th>\n",
       "      <td>-0.000830</td>\n",
       "      <td>1.000000</td>\n",
       "      <td>0.000661</td>\n",
       "      <td>-0.008999</td>\n",
       "      <td>0.004871</td>\n",
       "      <td>-0.002266</td>\n",
       "      <td>-0.004503</td>\n",
       "      <td>-0.001746</td>\n",
       "      <td>0.003459</td>\n",
       "      <td>0.001722</td>\n",
       "      <td>-0.002044</td>\n",
       "    </tr>\n",
       "    <tr>\n",
       "      <th>lat</th>\n",
       "      <td>-0.008832</td>\n",
       "      <td>0.000661</td>\n",
       "      <td>1.000000</td>\n",
       "      <td>0.074348</td>\n",
       "      <td>0.005697</td>\n",
       "      <td>0.014889</td>\n",
       "      <td>-0.025236</td>\n",
       "      <td>-0.019492</td>\n",
       "      <td>-0.003917</td>\n",
       "      <td>0.032468</td>\n",
       "      <td>-0.005011</td>\n",
       "    </tr>\n",
       "    <tr>\n",
       "      <th>long</th>\n",
       "      <td>0.042546</td>\n",
       "      <td>-0.008999</td>\n",
       "      <td>0.074348</td>\n",
       "      <td>1.000000</td>\n",
       "      <td>0.000861</td>\n",
       "      <td>-0.039639</td>\n",
       "      <td>0.069169</td>\n",
       "      <td>0.118598</td>\n",
       "      <td>0.015283</td>\n",
       "      <td>-0.104154</td>\n",
       "      <td>0.058428</td>\n",
       "    </tr>\n",
       "    <tr>\n",
       "      <th>Construction year</th>\n",
       "      <td>0.001081</td>\n",
       "      <td>0.004871</td>\n",
       "      <td>0.005697</td>\n",
       "      <td>0.000861</td>\n",
       "      <td>1.000000</td>\n",
       "      <td>-0.000486</td>\n",
       "      <td>0.001990</td>\n",
       "      <td>0.004092</td>\n",
       "      <td>0.004753</td>\n",
       "      <td>-0.002745</td>\n",
       "      <td>-0.008264</td>\n",
       "    </tr>\n",
       "    <tr>\n",
       "      <th>minimum nights</th>\n",
       "      <td>0.005668</td>\n",
       "      <td>-0.002266</td>\n",
       "      <td>0.014889</td>\n",
       "      <td>-0.039639</td>\n",
       "      <td>-0.000486</td>\n",
       "      <td>1.000000</td>\n",
       "      <td>-0.049997</td>\n",
       "      <td>-0.096141</td>\n",
       "      <td>-0.002167</td>\n",
       "      <td>0.084846</td>\n",
       "      <td>0.063541</td>\n",
       "    </tr>\n",
       "    <tr>\n",
       "      <th>number of reviews</th>\n",
       "      <td>-0.041530</td>\n",
       "      <td>-0.004503</td>\n",
       "      <td>-0.025236</td>\n",
       "      <td>0.069169</td>\n",
       "      <td>0.001990</td>\n",
       "      <td>-0.049997</td>\n",
       "      <td>1.000000</td>\n",
       "      <td>0.590939</td>\n",
       "      <td>-0.018412</td>\n",
       "      <td>-0.080907</td>\n",
       "      <td>0.099368</td>\n",
       "    </tr>\n",
       "    <tr>\n",
       "      <th>reviews per month</th>\n",
       "      <td>0.038038</td>\n",
       "      <td>-0.001746</td>\n",
       "      <td>-0.019492</td>\n",
       "      <td>0.118598</td>\n",
       "      <td>0.004092</td>\n",
       "      <td>-0.096141</td>\n",
       "      <td>0.590939</td>\n",
       "      <td>1.000000</td>\n",
       "      <td>0.037526</td>\n",
       "      <td>-0.025621</td>\n",
       "      <td>0.077193</td>\n",
       "    </tr>\n",
       "    <tr>\n",
       "      <th>review rate number</th>\n",
       "      <td>0.036633</td>\n",
       "      <td>0.003459</td>\n",
       "      <td>-0.003917</td>\n",
       "      <td>0.015283</td>\n",
       "      <td>0.004753</td>\n",
       "      <td>-0.002167</td>\n",
       "      <td>-0.018412</td>\n",
       "      <td>0.037526</td>\n",
       "      <td>1.000000</td>\n",
       "      <td>0.024273</td>\n",
       "      <td>-0.006217</td>\n",
       "    </tr>\n",
       "    <tr>\n",
       "      <th>calculated host listings count</th>\n",
       "      <td>0.024296</td>\n",
       "      <td>0.001722</td>\n",
       "      <td>0.032468</td>\n",
       "      <td>-0.104154</td>\n",
       "      <td>-0.002745</td>\n",
       "      <td>0.084846</td>\n",
       "      <td>-0.080907</td>\n",
       "      <td>-0.025621</td>\n",
       "      <td>0.024273</td>\n",
       "      <td>1.000000</td>\n",
       "      <td>0.159194</td>\n",
       "    </tr>\n",
       "    <tr>\n",
       "      <th>availability 365</th>\n",
       "      <td>-0.139226</td>\n",
       "      <td>-0.002044</td>\n",
       "      <td>-0.005011</td>\n",
       "      <td>0.058428</td>\n",
       "      <td>-0.008264</td>\n",
       "      <td>0.063541</td>\n",
       "      <td>0.099368</td>\n",
       "      <td>0.077193</td>\n",
       "      <td>-0.006217</td>\n",
       "      <td>0.159194</td>\n",
       "      <td>1.000000</td>\n",
       "    </tr>\n",
       "  </tbody>\n",
       "</table>\n",
       "</div>"
      ],
      "text/plain": [
       "                                      id   host id       lat      long  \\\n",
       "id                              1.000000 -0.000830 -0.008832  0.042546   \n",
       "host id                        -0.000830  1.000000  0.000661 -0.008999   \n",
       "lat                            -0.008832  0.000661  1.000000  0.074348   \n",
       "long                            0.042546 -0.008999  0.074348  1.000000   \n",
       "Construction year               0.001081  0.004871  0.005697  0.000861   \n",
       "minimum nights                  0.005668 -0.002266  0.014889 -0.039639   \n",
       "number of reviews              -0.041530 -0.004503 -0.025236  0.069169   \n",
       "reviews per month               0.038038 -0.001746 -0.019492  0.118598   \n",
       "review rate number              0.036633  0.003459 -0.003917  0.015283   \n",
       "calculated host listings count  0.024296  0.001722  0.032468 -0.104154   \n",
       "availability 365               -0.139226 -0.002044 -0.005011  0.058428   \n",
       "\n",
       "                                Construction year  minimum nights  \\\n",
       "id                                       0.001081        0.005668   \n",
       "host id                                  0.004871       -0.002266   \n",
       "lat                                      0.005697        0.014889   \n",
       "long                                     0.000861       -0.039639   \n",
       "Construction year                        1.000000       -0.000486   \n",
       "minimum nights                          -0.000486        1.000000   \n",
       "number of reviews                        0.001990       -0.049997   \n",
       "reviews per month                        0.004092       -0.096141   \n",
       "review rate number                       0.004753       -0.002167   \n",
       "calculated host listings count          -0.002745        0.084846   \n",
       "availability 365                        -0.008264        0.063541   \n",
       "\n",
       "                                number of reviews  reviews per month  \\\n",
       "id                                      -0.041530           0.038038   \n",
       "host id                                 -0.004503          -0.001746   \n",
       "lat                                     -0.025236          -0.019492   \n",
       "long                                     0.069169           0.118598   \n",
       "Construction year                        0.001990           0.004092   \n",
       "minimum nights                          -0.049997          -0.096141   \n",
       "number of reviews                        1.000000           0.590939   \n",
       "reviews per month                        0.590939           1.000000   \n",
       "review rate number                      -0.018412           0.037526   \n",
       "calculated host listings count          -0.080907          -0.025621   \n",
       "availability 365                         0.099368           0.077193   \n",
       "\n",
       "                                review rate number  \\\n",
       "id                                        0.036633   \n",
       "host id                                   0.003459   \n",
       "lat                                      -0.003917   \n",
       "long                                      0.015283   \n",
       "Construction year                         0.004753   \n",
       "minimum nights                           -0.002167   \n",
       "number of reviews                        -0.018412   \n",
       "reviews per month                         0.037526   \n",
       "review rate number                        1.000000   \n",
       "calculated host listings count            0.024273   \n",
       "availability 365                         -0.006217   \n",
       "\n",
       "                                calculated host listings count  \\\n",
       "id                                                    0.024296   \n",
       "host id                                               0.001722   \n",
       "lat                                                   0.032468   \n",
       "long                                                 -0.104154   \n",
       "Construction year                                    -0.002745   \n",
       "minimum nights                                        0.084846   \n",
       "number of reviews                                    -0.080907   \n",
       "reviews per month                                    -0.025621   \n",
       "review rate number                                    0.024273   \n",
       "calculated host listings count                        1.000000   \n",
       "availability 365                                      0.159194   \n",
       "\n",
       "                                availability 365  \n",
       "id                                     -0.139226  \n",
       "host id                                -0.002044  \n",
       "lat                                    -0.005011  \n",
       "long                                    0.058428  \n",
       "Construction year                      -0.008264  \n",
       "minimum nights                          0.063541  \n",
       "number of reviews                       0.099368  \n",
       "reviews per month                       0.077193  \n",
       "review rate number                     -0.006217  \n",
       "calculated host listings count          0.159194  \n",
       "availability 365                        1.000000  "
      ]
     },
     "execution_count": 96,
     "metadata": {},
     "output_type": "execute_result"
    }
   ],
   "source": [
    "airbnb.corr()"
   ]
  },
  {
   "cell_type": "code",
   "execution_count": 97,
   "metadata": {},
   "outputs": [],
   "source": [
    "airbnb['service fee'] = airbnb['service fee'].str[1:]\n",
    "airbnb['price'] = airbnb['price'].str[1:]"
   ]
  },
  {
   "cell_type": "code",
   "execution_count": 98,
   "metadata": {},
   "outputs": [
    {
     "data": {
      "text/html": [
       "<div>\n",
       "<style scoped>\n",
       "    .dataframe tbody tr th:only-of-type {\n",
       "        vertical-align: middle;\n",
       "    }\n",
       "\n",
       "    .dataframe tbody tr th {\n",
       "        vertical-align: top;\n",
       "    }\n",
       "\n",
       "    .dataframe thead th {\n",
       "        text-align: right;\n",
       "    }\n",
       "</style>\n",
       "<table border=\"1\" class=\"dataframe\">\n",
       "  <thead>\n",
       "    <tr style=\"text-align: right;\">\n",
       "      <th></th>\n",
       "      <th>id</th>\n",
       "      <th>NAME</th>\n",
       "      <th>host id</th>\n",
       "      <th>host_identity_verified</th>\n",
       "      <th>host name</th>\n",
       "      <th>neighbourhood group</th>\n",
       "      <th>neighbourhood</th>\n",
       "      <th>lat</th>\n",
       "      <th>long</th>\n",
       "      <th>country</th>\n",
       "      <th>...</th>\n",
       "      <th>service fee</th>\n",
       "      <th>minimum nights</th>\n",
       "      <th>number of reviews</th>\n",
       "      <th>last review</th>\n",
       "      <th>reviews per month</th>\n",
       "      <th>review rate number</th>\n",
       "      <th>calculated host listings count</th>\n",
       "      <th>availability 365</th>\n",
       "      <th>house_rules</th>\n",
       "      <th>license</th>\n",
       "    </tr>\n",
       "  </thead>\n",
       "  <tbody>\n",
       "    <tr>\n",
       "      <th>0</th>\n",
       "      <td>1001254</td>\n",
       "      <td>Clean &amp; quiet apt home by the park</td>\n",
       "      <td>80014485718</td>\n",
       "      <td>unconfirmed</td>\n",
       "      <td>Madaline</td>\n",
       "      <td>Brooklyn</td>\n",
       "      <td>Kensington</td>\n",
       "      <td>40.64749</td>\n",
       "      <td>-73.97237</td>\n",
       "      <td>United States</td>\n",
       "      <td>...</td>\n",
       "      <td>193</td>\n",
       "      <td>10.0</td>\n",
       "      <td>9.0</td>\n",
       "      <td>10/19/2021</td>\n",
       "      <td>0.21</td>\n",
       "      <td>4.0</td>\n",
       "      <td>6.0</td>\n",
       "      <td>286.0</td>\n",
       "      <td>Clean up and treat the home the way you'd like...</td>\n",
       "      <td>NaN</td>\n",
       "    </tr>\n",
       "    <tr>\n",
       "      <th>1</th>\n",
       "      <td>1002102</td>\n",
       "      <td>Skylit Midtown Castle</td>\n",
       "      <td>52335172823</td>\n",
       "      <td>verified</td>\n",
       "      <td>Jenna</td>\n",
       "      <td>Manhattan</td>\n",
       "      <td>Midtown</td>\n",
       "      <td>40.75362</td>\n",
       "      <td>-73.98377</td>\n",
       "      <td>United States</td>\n",
       "      <td>...</td>\n",
       "      <td>28</td>\n",
       "      <td>30.0</td>\n",
       "      <td>45.0</td>\n",
       "      <td>5/21/2022</td>\n",
       "      <td>0.38</td>\n",
       "      <td>4.0</td>\n",
       "      <td>2.0</td>\n",
       "      <td>228.0</td>\n",
       "      <td>Pet friendly but please confirm with me if the...</td>\n",
       "      <td>NaN</td>\n",
       "    </tr>\n",
       "    <tr>\n",
       "      <th>2</th>\n",
       "      <td>1002403</td>\n",
       "      <td>THE VILLAGE OF HARLEM....NEW YORK !</td>\n",
       "      <td>78829239556</td>\n",
       "      <td>NaN</td>\n",
       "      <td>Elise</td>\n",
       "      <td>Manhattan</td>\n",
       "      <td>Harlem</td>\n",
       "      <td>40.80902</td>\n",
       "      <td>-73.94190</td>\n",
       "      <td>United States</td>\n",
       "      <td>...</td>\n",
       "      <td>124</td>\n",
       "      <td>3.0</td>\n",
       "      <td>0.0</td>\n",
       "      <td>NaN</td>\n",
       "      <td>NaN</td>\n",
       "      <td>5.0</td>\n",
       "      <td>1.0</td>\n",
       "      <td>352.0</td>\n",
       "      <td>I encourage you to use my kitchen, cooking and...</td>\n",
       "      <td>NaN</td>\n",
       "    </tr>\n",
       "    <tr>\n",
       "      <th>3</th>\n",
       "      <td>1002755</td>\n",
       "      <td>NaN</td>\n",
       "      <td>85098326012</td>\n",
       "      <td>unconfirmed</td>\n",
       "      <td>Garry</td>\n",
       "      <td>Brooklyn</td>\n",
       "      <td>Clinton Hill</td>\n",
       "      <td>40.68514</td>\n",
       "      <td>-73.95976</td>\n",
       "      <td>United States</td>\n",
       "      <td>...</td>\n",
       "      <td>74</td>\n",
       "      <td>30.0</td>\n",
       "      <td>270.0</td>\n",
       "      <td>7/5/2019</td>\n",
       "      <td>4.64</td>\n",
       "      <td>4.0</td>\n",
       "      <td>1.0</td>\n",
       "      <td>322.0</td>\n",
       "      <td>NaN</td>\n",
       "      <td>NaN</td>\n",
       "    </tr>\n",
       "    <tr>\n",
       "      <th>4</th>\n",
       "      <td>1003689</td>\n",
       "      <td>Entire Apt: Spacious Studio/Loft by central park</td>\n",
       "      <td>92037596077</td>\n",
       "      <td>verified</td>\n",
       "      <td>Lyndon</td>\n",
       "      <td>Manhattan</td>\n",
       "      <td>East Harlem</td>\n",
       "      <td>40.79851</td>\n",
       "      <td>-73.94399</td>\n",
       "      <td>United States</td>\n",
       "      <td>...</td>\n",
       "      <td>41</td>\n",
       "      <td>10.0</td>\n",
       "      <td>9.0</td>\n",
       "      <td>11/19/2018</td>\n",
       "      <td>0.10</td>\n",
       "      <td>3.0</td>\n",
       "      <td>1.0</td>\n",
       "      <td>289.0</td>\n",
       "      <td>Please no smoking in the house, porch or on th...</td>\n",
       "      <td>NaN</td>\n",
       "    </tr>\n",
       "  </tbody>\n",
       "</table>\n",
       "<p>5 rows × 26 columns</p>\n",
       "</div>"
      ],
      "text/plain": [
       "        id                                              NAME      host id  \\\n",
       "0  1001254                Clean & quiet apt home by the park  80014485718   \n",
       "1  1002102                             Skylit Midtown Castle  52335172823   \n",
       "2  1002403               THE VILLAGE OF HARLEM....NEW YORK !  78829239556   \n",
       "3  1002755                                               NaN  85098326012   \n",
       "4  1003689  Entire Apt: Spacious Studio/Loft by central park  92037596077   \n",
       "\n",
       "  host_identity_verified host name neighbourhood group neighbourhood  \\\n",
       "0            unconfirmed  Madaline            Brooklyn    Kensington   \n",
       "1               verified     Jenna           Manhattan       Midtown   \n",
       "2                    NaN     Elise           Manhattan        Harlem   \n",
       "3            unconfirmed     Garry            Brooklyn  Clinton Hill   \n",
       "4               verified    Lyndon           Manhattan   East Harlem   \n",
       "\n",
       "        lat      long        country  ... service fee minimum nights  \\\n",
       "0  40.64749 -73.97237  United States  ...        193            10.0   \n",
       "1  40.75362 -73.98377  United States  ...         28            30.0   \n",
       "2  40.80902 -73.94190  United States  ...        124             3.0   \n",
       "3  40.68514 -73.95976  United States  ...         74            30.0   \n",
       "4  40.79851 -73.94399  United States  ...         41            10.0   \n",
       "\n",
       "  number of reviews last review  reviews per month review rate number  \\\n",
       "0               9.0  10/19/2021               0.21                4.0   \n",
       "1              45.0   5/21/2022               0.38                4.0   \n",
       "2               0.0         NaN                NaN                5.0   \n",
       "3             270.0    7/5/2019               4.64                4.0   \n",
       "4               9.0  11/19/2018               0.10                3.0   \n",
       "\n",
       "  calculated host listings count  availability 365  \\\n",
       "0                            6.0             286.0   \n",
       "1                            2.0             228.0   \n",
       "2                            1.0             352.0   \n",
       "3                            1.0             322.0   \n",
       "4                            1.0             289.0   \n",
       "\n",
       "                                         house_rules license  \n",
       "0  Clean up and treat the home the way you'd like...     NaN  \n",
       "1  Pet friendly but please confirm with me if the...     NaN  \n",
       "2  I encourage you to use my kitchen, cooking and...     NaN  \n",
       "3                                                NaN     NaN  \n",
       "4  Please no smoking in the house, porch or on th...     NaN  \n",
       "\n",
       "[5 rows x 26 columns]"
      ]
     },
     "execution_count": 98,
     "metadata": {},
     "output_type": "execute_result"
    }
   ],
   "source": [
    "airbnb.head()"
   ]
  },
  {
   "cell_type": "code",
   "execution_count": 99,
   "metadata": {},
   "outputs": [],
   "source": [
    "airbnb['neighbourhood group'] = airbnb['neighbourhood group'].str.replace('brookln', 'Brooklyn')"
   ]
  },
  {
   "cell_type": "code",
   "execution_count": 100,
   "metadata": {},
   "outputs": [],
   "source": [
    "x = airbnb.groupby('neighbourhood group').id.nunique()"
   ]
  },
  {
   "cell_type": "code",
   "execution_count": 101,
   "metadata": {},
   "outputs": [
    {
     "name": "stdout",
     "output_type": "stream",
     "text": [
      "neighbourhood group\n",
      "Bronx             2694\n",
      "Brooklyn         41631\n",
      "Manhattan        43557\n",
      "Queens           13197\n",
      "Staten Island      949\n",
      "manhatan             1\n",
      "Name: id, dtype: int64\n"
     ]
    }
   ],
   "source": [
    "print(x)"
   ]
  },
  {
   "cell_type": "markdown",
   "metadata": {},
   "source": [
    "Upon realising that we have now removed the $ from the service fee. Our next challenge was to convert the service fee amd price columns into floats so that our correlation model can pick up those columns as input."
   ]
  },
  {
   "cell_type": "code",
   "execution_count": 102,
   "metadata": {},
   "outputs": [
    {
     "data": {
      "text/plain": [
       "id                                  int64\n",
       "NAME                               object\n",
       "host id                             int64\n",
       "host_identity_verified             object\n",
       "host name                          object\n",
       "neighbourhood group                object\n",
       "neighbourhood                      object\n",
       "lat                               float64\n",
       "long                              float64\n",
       "country                            object\n",
       "country code                       object\n",
       "instant_bookable                   object\n",
       "cancellation_policy                object\n",
       "room type                          object\n",
       "Construction year                 float64\n",
       "price                              object\n",
       "service fee                        object\n",
       "minimum nights                    float64\n",
       "number of reviews                 float64\n",
       "last review                        object\n",
       "reviews per month                 float64\n",
       "review rate number                float64\n",
       "calculated host listings count    float64\n",
       "availability 365                  float64\n",
       "house_rules                        object\n",
       "license                            object\n",
       "dtype: object"
      ]
     },
     "execution_count": 102,
     "metadata": {},
     "output_type": "execute_result"
    }
   ],
   "source": [
    "airbnb.dtypes"
   ]
  },
  {
   "cell_type": "code",
   "execution_count": 103,
   "metadata": {},
   "outputs": [
    {
     "data": {
      "text/plain": [
       "0         193 \n",
       "1          28 \n",
       "2         124 \n",
       "3          74 \n",
       "4          41 \n",
       "          ... \n",
       "102594    169 \n",
       "102595    167 \n",
       "102596    198 \n",
       "102597    109 \n",
       "102598    206 \n",
       "Name: service fee, Length: 102599, dtype: object"
      ]
     },
     "execution_count": 103,
     "metadata": {},
     "output_type": "execute_result"
    }
   ],
   "source": [
    "airbnb['service fee'].fillna(0)"
   ]
  },
  {
   "cell_type": "code",
   "execution_count": 104,
   "metadata": {},
   "outputs": [
    {
     "data": {
      "text/plain": [
       "0         193.0\n",
       "1          28.0\n",
       "2         124.0\n",
       "3          74.0\n",
       "4          41.0\n",
       "          ...  \n",
       "102594    169.0\n",
       "102595    167.0\n",
       "102596    198.0\n",
       "102597    109.0\n",
       "102598    206.0\n",
       "Name: service fee, Length: 102599, dtype: float64"
      ]
     },
     "execution_count": 104,
     "metadata": {},
     "output_type": "execute_result"
    }
   ],
   "source": [
    "airbnb['service fee'].astype(float)"
   ]
  },
  {
   "cell_type": "code",
   "execution_count": 106,
   "metadata": {},
   "outputs": [
    {
     "data": {
      "text/plain": [
       "0           966 \n",
       "1           142 \n",
       "2           620 \n",
       "3           368 \n",
       "4           204 \n",
       "           ...  \n",
       "102594      844 \n",
       "102595      837 \n",
       "102596      988 \n",
       "102597      546 \n",
       "102598    1,032 \n",
       "Name: price, Length: 102599, dtype: object"
      ]
     },
     "execution_count": 106,
     "metadata": {},
     "output_type": "execute_result"
    }
   ],
   "source": [
    "airbnb['price'].fillna(0)"
   ]
  },
  {
   "cell_type": "code",
   "execution_count": 109,
   "metadata": {},
   "outputs": [],
   "source": [
    "airbnb['price'].replace(',', '', regex = True, inplace = True)"
   ]
  },
  {
   "cell_type": "code",
   "execution_count": 110,
   "metadata": {},
   "outputs": [
    {
     "data": {
      "text/plain": [
       "0          966.0\n",
       "1          142.0\n",
       "2          620.0\n",
       "3          368.0\n",
       "4          204.0\n",
       "           ...  \n",
       "102594     844.0\n",
       "102595     837.0\n",
       "102596     988.0\n",
       "102597     546.0\n",
       "102598    1032.0\n",
       "Name: price, Length: 102599, dtype: float64"
      ]
     },
     "execution_count": 110,
     "metadata": {},
     "output_type": "execute_result"
    }
   ],
   "source": [
    "airbnb['price'].astype(float)"
   ]
  },
  {
   "cell_type": "markdown",
   "metadata": {},
   "source": [
    "# Linear Regression"
   ]
  },
  {
   "cell_type": "code",
   "execution_count": 114,
   "metadata": {},
   "outputs": [],
   "source": [
    "import matplotlib.pyplot as plt\n",
    "from scipy import stats"
   ]
  },
  {
   "cell_type": "code",
   "execution_count": 115,
   "metadata": {},
   "outputs": [],
   "source": [
    "x = [1,2,3,4,5,6,7,8,9,10,11,12,13,14]\n",
    "y = [2,13,67,23,12,6,55,38,21,9,51,43,44,49]"
   ]
  },
  {
   "cell_type": "code",
   "execution_count": 116,
   "metadata": {},
   "outputs": [],
   "source": [
    "slope, intercept, r, p, std_err = stats.linregress(x, y)"
   ]
  },
  {
   "cell_type": "code",
   "execution_count": 117,
   "metadata": {},
   "outputs": [],
   "source": [
    "def cal_regression(x):\n",
    "    return slope*x + intercept"
   ]
  },
  {
   "cell_type": "code",
   "execution_count": 118,
   "metadata": {},
   "outputs": [],
   "source": [
    "model = list(map(cal_regression,x))"
   ]
  },
  {
   "cell_type": "code",
   "execution_count": 119,
   "metadata": {},
   "outputs": [
    {
     "name": "stdout",
     "output_type": "stream",
     "text": [
      "[17.428571428571427, 19.505494505494504, 21.58241758241758, 23.659340659340657, 25.736263736263734, 27.81318681318681, 29.89010989010989, 31.967032967032964, 34.043956043956044, 36.12087912087912, 38.1978021978022, 40.27472527472528, 42.35164835164835, 44.42857142857143]\n"
     ]
    }
   ],
   "source": [
    "print(model)"
   ]
  },
  {
   "cell_type": "code",
   "execution_count": 120,
   "metadata": {},
   "outputs": [
    {
     "data": {
      "text/plain": [
       "<matplotlib.collections.PathCollection at 0x1f3a7ca0848>"
      ]
     },
     "execution_count": 120,
     "metadata": {},
     "output_type": "execute_result"
    },
    {
     "data": {
      "image/png": "[encoded data removed]",
      "text/plain": [
       "<Figure size 432x288 with 1 Axes>"
      ]
     },
     "metadata": {
      "needs_background": "light"
     },
     "output_type": "display_data"
    }
   ],
   "source": [
    "plt.scatter(x,y)"
   ]
  },
  {
   "cell_type": "code",
   "execution_count": 121,
   "metadata": {},
   "outputs": [
    {
     "data": {
      "image/png": "[encoded data removed]",
      "text/plain": [
       "<Figure size 432x288 with 1 Axes>"
      ]
     },
     "metadata": {
      "needs_background": "light"
     },
     "output_type": "display_data"
    }
   ],
   "source": [
    "plt.scatter(x,y)\n",
    "plt.plot(x, model)\n",
    "plt.show()"
   ]
  },
  {
   "cell_type": "markdown",
   "metadata": {},
   "source": [
    "Calculate regression for Neighbourhood and service fee"
   ]
  },
  {
   "cell_type": "code",
   "execution_count": null,
   "metadata": {},
   "outputs": [],
   "source": [
    "x = airbnb['service fee']\n",
    "y = airbnb['lat']"
   ]
  },
  {
   "cell_type": "code",
   "execution_count": null,
   "metadata": {},
   "outputs": [],
   "source": []
  },
  {
   "cell_type": "code",
   "execution_count": null,
   "metadata": {},
   "outputs": [],
   "source": []
  },
  {
   "cell_type": "code",
   "execution_count": null,
   "metadata": {},
   "outputs": [],
   "source": []
  }
 ],
 "metadata": {
  "kernelspec": {
   "display_name": "Python 3",
   "language": "python",
   "name": "python3"
  },
  "language_info": {
   "codemirror_mode": {
    "name": "ipython",
    "version": 3
   },
   "file_extension": ".py",
   "mimetype": "text/x-python",
   "name": "python",
   "nbconvert_exporter": "python",
   "pygments_lexer": "ipython3",
   "version": "3.7.6"
  }
 },
 "nbformat": 4,
 "nbformat_minor": 4
}
