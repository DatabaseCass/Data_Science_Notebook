{
 "cells": [
  {
   "cell_type": "markdown",
   "metadata": {},
   "source": [
    "# This is a demo notebook to show student how to use notebooks"
   ]
  },
  {
   "cell_type": "markdown",
   "metadata": {},
   "source": [
    "Here we will be putting example of code. feel free to follow along in your own notebook"
   ]
  },
  {
   "cell_type": "code",
   "execution_count": 1,
   "metadata": {},
   "outputs": [
    {
     "name": "stdout",
     "output_type": "stream",
     "text": [
      "[1, 2, 3, 4, 5, 6, 7]\n"
     ]
    }
   ],
   "source": [
    "numbers = [1,2,3,4,5,6,7]\n",
    "print(numbers)"
   ]
  },
  {
   "cell_type": "code",
   "execution_count": 12,
   "metadata": {},
   "outputs": [
    {
     "name": "stdout",
     "output_type": "stream",
     "text": [
      "the data type in numbers is <class 'str'>\n"
     ]
    }
   ],
   "source": [
    "numbers = 2\n",
    "words = \"yo\"\n",
    "\n",
    "print(\"the data type in numbers is\", type(\"numbers\"))"
   ]
  },
  {
   "cell_type": "code",
   "execution_count": 9,
   "metadata": {},
   "outputs": [],
   "source": [
    "def divide_two_numbers(x,y):\n",
    "    result = x/y\n",
    "    return result"
   ]
  },
  {
   "cell_type": "code",
   "execution_count": 11,
   "metadata": {},
   "outputs": [
    {
     "name": "stdout",
     "output_type": "stream",
     "text": [
      "4.0\n"
     ]
    }
   ],
   "source": [
    "number_1 = 8\n",
    "number_2 = 2\n",
    "\n",
    "operation = divide_two_numbers(number_1,number_2)\n",
    "\n",
    "print(operation)"
   ]
  },
  {
   "cell_type": "code",
   "execution_count": 17,
   "metadata": {},
   "outputs": [
    {
     "name": "stdout",
     "output_type": "stream",
     "text": [
      "Number is not greater than 3\n"
     ]
    }
   ],
   "source": [
    "number = 2\n",
    "\n",
    "if number > 3:\n",
    "    print(\"Number is bigger than 3\")\n",
    "else:\n",
    "    print(\"Number is not greater than 3\")"
   ]
  },
  {
   "cell_type": "code",
   "execution_count": 18,
   "metadata": {},
   "outputs": [
    {
     "name": "stdout",
     "output_type": "stream",
     "text": [
      "1\n",
      "2\n",
      "3\n",
      "4\n",
      "5\n"
     ]
    }
   ],
   "source": [
    "Numbers = [1,2,3,4,5]\n",
    "\n",
    "for i in Numbers:\n",
    "    print(i)"
   ]
  },
  {
   "cell_type": "markdown",
   "metadata": {},
   "source": [
    "## Steps to create function"
   ]
  },
  {
   "cell_type": "markdown",
   "metadata": {},
   "source": [
    "1. create a name for the function\n",
    "2. tell the function what arguments/parameters/variables it is going to take inside of it\n",
    "3. Determine what calculation is going to be used. We want to find what an even number is\n",
    "4. We need to find a way to go through each number and perform the calculation above (can the number be divided cleanly by 2?)\n",
    "5. We need to tell the function what to return to us or print"
   ]
  },
  {
   "cell_type": "code",
   "execution_count": 22,
   "metadata": {},
   "outputs": [],
   "source": [
    "Numbers = [ 7, 935, 1, 99, 3]\n",
    "\n",
    "def has_even_numbers(num):\n",
    "    for i in num:\n",
    "        if i % 2 == 0:\n",
    "            return True\n",
    "    return False    \n"
   ]
  },
  {
   "cell_type": "code",
   "execution_count": 25,
   "metadata": {},
   "outputs": [
    {
     "name": "stdout",
     "output_type": "stream",
     "text": [
      "This list has NO even numbers\n"
     ]
    }
   ],
   "source": [
    "if has_even_numbers(Numbers):\n",
    "    print(\"This list has even numbers\")\n",
    "else:\n",
    "    print(\"This list has NO even numbers\")"
   ]
  },
  {
   "cell_type": "markdown",
   "metadata": {},
   "source": [
    "* = multiplication\n",
    "- = minus\n",
    "/ = divide\n",
    "+ = add\n",
    "% = modulo operator (divisible kind of like a fraction)"
   ]
  },
  {
   "cell_type": "code",
   "execution_count": 3,
   "metadata": {},
   "outputs": [
    {
     "name": "stdout",
     "output_type": "stream",
     "text": [
      "10\n"
     ]
    }
   ],
   "source": [
    "print(8+2)"
   ]
  },
  {
   "cell_type": "code",
   "execution_count": 5,
   "metadata": {},
   "outputs": [
    {
     "ename": "SyntaxError",
     "evalue": "unexpected EOF while parsing (<ipython-input-5-f0a7797d1e59>, line 1)",
     "output_type": "error",
     "traceback": [
      "\u001b[1;36m  File \u001b[1;32m\"<ipython-input-5-f0a7797d1e59>\"\u001b[1;36m, line \u001b[1;32m1\u001b[0m\n\u001b[1;33m    print(\"Hi, my name is Cassius\"\u001b[0m\n\u001b[1;37m                                  ^\u001b[0m\n\u001b[1;31mSyntaxError\u001b[0m\u001b[1;31m:\u001b[0m unexpected EOF while parsing\n"
     ]
    }
   ],
   "source": [
    "print(\"Hi, my name is Cassius\""
   ]
  },
  {
   "cell_type": "code",
   "execution_count": 7,
   "metadata": {},
   "outputs": [
    {
     "name": "stdout",
     "output_type": "stream",
     "text": [
      "The sum of even numbers between 1 and 10 is: 30\n"
     ]
    }
   ],
   "source": [
    "sum = 0 \n",
    "\n",
    "for i in range(1, 11):\n",
    "    if i % 2 == 0:\n",
    "        sum += i \n",
    "print(\"The sum of even numbers between 1 and 10 is:\", sum)         "
   ]
  },
  {
   "cell_type": "code",
   "execution_count": 9,
   "metadata": {},
   "outputs": [
    {
     "ename": "ZeroDivisionError",
     "evalue": "division by zero",
     "output_type": "error",
     "traceback": [
      "\u001b[1;31m---------------------------------------------------------------------------\u001b[0m",
      "\u001b[1;31mZeroDivisionError\u001b[0m                         Traceback (most recent call last)",
      "\u001b[1;32m<ipython-input-9-367947ee1759>\u001b[0m in \u001b[0;36m<module>\u001b[1;34m\u001b[0m\n\u001b[0;32m      1\u001b[0m \u001b[0mnumerator\u001b[0m \u001b[1;33m=\u001b[0m \u001b[1;36m10\u001b[0m\u001b[1;33m\u001b[0m\u001b[1;33m\u001b[0m\u001b[0m\n\u001b[0;32m      2\u001b[0m \u001b[0mdenominator\u001b[0m \u001b[1;33m=\u001b[0m \u001b[1;36m0\u001b[0m\u001b[1;33m\u001b[0m\u001b[1;33m\u001b[0m\u001b[0m\n\u001b[1;32m----> 3\u001b[1;33m \u001b[0mresult\u001b[0m \u001b[1;33m=\u001b[0m \u001b[0mnumerator\u001b[0m \u001b[1;33m/\u001b[0m \u001b[0mdenominator\u001b[0m\u001b[1;33m\u001b[0m\u001b[1;33m\u001b[0m\u001b[0m\n\u001b[0m\u001b[0;32m      4\u001b[0m \u001b[0mprint\u001b[0m\u001b[1;33m(\u001b[0m\u001b[0mresult\u001b[0m\u001b[1;33m)\u001b[0m\u001b[1;33m\u001b[0m\u001b[1;33m\u001b[0m\u001b[0m\n",
      "\u001b[1;31mZeroDivisionError\u001b[0m: division by zero"
     ]
    }
   ],
   "source": [
    "numerator = 10 \n",
    "denominator = 0\n",
    "result = numerator / denominator \n",
    "print(result)"
   ]
  },
  {
   "cell_type": "code",
   "execution_count": 14,
   "metadata": {},
   "outputs": [
    {
     "name": "stdout",
     "output_type": "stream",
     "text": [
      "Error: Dont be silly\n"
     ]
    }
   ],
   "source": [
    "numerator = 10 \n",
    "denominator = 0 \n",
    "\n",
    "if denominator != 0:\n",
    "    result = numerator / denominator    \n",
    "    print(result)\n",
    "else:\n",
    "    print(\"Error: Dont be silly\") "
   ]
  },
  {
   "cell_type": "code",
   "execution_count": 16,
   "metadata": {},
   "outputs": [
    {
     "name": "stdout",
     "output_type": "stream",
     "text": [
      "Hey how are you?\n"
     ]
    }
   ],
   "source": [
    "def greet(): \n",
    "    print(\"Hey how are you?\")\n",
    "\n",
    "greet() "
   ]
  },
  {
   "cell_type": "markdown",
   "metadata": {},
   "source": [
    "# Exchange Rate"
   ]
  },
  {
   "cell_type": "markdown",
   "metadata": {},
   "source": [
    "You are a Personal Assistant. Your boss has asked you to get an accurate conversion rate for a shipment he is expecting from Dubai. He wants to know how much he would save or not if he chose to pay in AED instead of GBP. \n",
    "\n",
    "Create a function called \"Shipment_Conversion\" that takes the standard conversion rate of 4.56AED to 1GBP and show him how much he would pay if his shipment cost 2,000GBP."
   ]
  },
  {
   "cell_type": "code",
   "execution_count": null,
   "metadata": {},
   "outputs": [],
   "source": [
    "rate = 4.56\n",
    "amount = 2000\n",
    "\n",
    "def Shipment_Conversion\n",
    "\n",
    "\n",
    "\n",
    "Shipment_Conversion...\n",
    "\n"
   ]
  },
  {
   "cell_type": "code",
   "execution_count": 24,
   "metadata": {},
   "outputs": [],
   "source": [
    "def shipment_conversion(shipmentcost):\n",
    "    rate = 4.56\n",
    "    amount_AED = shipmentcost*rate\n",
    "    return amount_AED    "
   ]
  },
  {
   "cell_type": "code",
   "execution_count": 25,
   "metadata": {},
   "outputs": [
    {
     "data": {
      "text/plain": [
       "9120.0"
      ]
     },
     "execution_count": 25,
     "metadata": {},
     "output_type": "execute_result"
    }
   ],
   "source": [
    "shipment_conversion(2000)"
   ]
  },
  {
   "cell_type": "code",
   "execution_count": 22,
   "metadata": {},
   "outputs": [],
   "source": [
    "def shipment_conversion2(cost,input_currency,output_currency):\n",
    "    result = cost*rate[output_currency]\n",
    "    print(f\"if your shipment costs {cost} {input_currency}, it's worth {result} {output_currency}\")\n",
    "    \n",
    "rate = {\"GBP\": 1/4.56, \"AED\": 4.56}    "
   ]
  },
  {
   "cell_type": "code",
   "execution_count": 23,
   "metadata": {},
   "outputs": [
    {
     "name": "stdout",
     "output_type": "stream",
     "text": [
      "if your shipment costs 2000 GBP, it's worth 9120.0 AED\n"
     ]
    }
   ],
   "source": [
    "shipment_conversion2(2000,\"GBP\",\"AED\")"
   ]
  },
  {
   "cell_type": "code",
   "execution_count": 27,
   "metadata": {},
   "outputs": [
    {
     "data": {
      "text/plain": [
       "9120.0"
      ]
     },
     "execution_count": 27,
     "metadata": {},
     "output_type": "execute_result"
    }
   ],
   "source": [
    "def shipment_conversion3(x,y):\n",
    "    result = x*y\n",
    "    return result\n",
    "\n",
    "Conversion_Rate = 4.56\n",
    "pound_amount = 2000\n",
    "\n",
    "shipment_conversion3(Conversion_Rate,pound_amount)"
   ]
  },
  {
   "cell_type": "code",
   "execution_count": 2,
   "metadata": {},
   "outputs": [
    {
     "data": {
      "text/plain": [
       "2"
      ]
     },
     "execution_count": 2,
     "metadata": {},
     "output_type": "execute_result"
    }
   ],
   "source": [
    "num = [1,2,3,4,5] ##list\n",
    "\n",
    "num2 = (1,2,3,4,5) ##tuple"
   ]
  },
  {
   "cell_type": "code",
   "execution_count": 3,
   "metadata": {},
   "outputs": [
    {
     "name": "stdout",
     "output_type": "stream",
     "text": [
      "its sunny\n"
     ]
    }
   ],
   "source": [
    "is_raining = False\n",
    "\n",
    "if is_raining:\n",
    "    print(\"stay inside\")\n",
    "else:\n",
    "    print(\"its sunny\")"
   ]
  },
  {
   "cell_type": "code",
   "execution_count": 7,
   "metadata": {},
   "outputs": [
    {
     "name": "stdout",
     "output_type": "stream",
     "text": [
      "False\n"
     ]
    }
   ],
   "source": [
    "a = True\n",
    "b = True\n",
    "\n",
    "print(a!=b)"
   ]
  },
  {
   "cell_type": "code",
   "execution_count": 9,
   "metadata": {},
   "outputs": [
    {
     "name": "stdout",
     "output_type": "stream",
     "text": [
      "ABCD\n"
     ]
    },
    {
     "data": {
      "text/plain": [
       "4"
      ]
     },
     "execution_count": 9,
     "metadata": {},
     "output_type": "execute_result"
    }
   ],
   "source": [
    "new_string = (\"abcd\")\n",
    "\n",
    "print(new_string.upper())\n",
    "len(new_string)"
   ]
  },
  {
   "cell_type": "code",
   "execution_count": 10,
   "metadata": {},
   "outputs": [
    {
     "name": "stdout",
     "output_type": "stream",
     "text": [
      "['hello', 'my', 'name', 'is', 'Cass']\n"
     ]
    }
   ],
   "source": [
    "a = (\"hello my name is Cass\")\n",
    "\n",
    "print(a.split())"
   ]
  },
  {
   "cell_type": "code",
   "execution_count": null,
   "metadata": {},
   "outputs": [],
   "source": [
    "moveset = {\"high kick\": 200, \"block\": 0, \"special move\": 1000}\n",
    "\n"
   ]
  },
  {
   "cell_type": "code",
   "execution_count": 11,
   "metadata": {},
   "outputs": [
    {
     "name": "stdout",
     "output_type": "stream",
     "text": [
      "0\n",
      "1\n",
      "2\n",
      "3\n",
      "4\n",
      "5\n",
      "6\n",
      "7\n",
      "8\n",
      "9\n",
      "10\n",
      "11\n",
      "12\n",
      "13\n",
      "14\n",
      "15\n",
      "16\n",
      "17\n",
      "18\n",
      "19\n"
     ]
    }
   ],
   "source": [
    "numbers = 0\n",
    "\n",
    "while numbers < 20:\n",
    "    print(numbers)\n",
    "    numbers += 1"
   ]
  },
  {
   "cell_type": "code",
   "execution_count": null,
   "metadata": {},
   "outputs": [],
   "source": [
    "## we know that the variable numbers is currently at the value of zero.\n",
    "## whilst this variable remains less than 20\n",
    "## show us the value of the variable, but add 1 each time you loop. Until it reaches 20"
   ]
  },
  {
   "cell_type": "code",
   "execution_count": 12,
   "metadata": {},
   "outputs": [
    {
     "name": "stdout",
     "output_type": "stream",
     "text": [
      "VW\n",
      "BMW\n"
     ]
    }
   ],
   "source": [
    "cars = [\"VW\", \"BMW\", \"Mercedes\", \"Toyota\"]\n",
    "\n",
    "for car in cars:\n",
    "    if car == \"Mercedes\":\n",
    "        break\n",
    "    print(car)\n",
    "    "
   ]
  },
  {
   "cell_type": "code",
   "execution_count": 13,
   "metadata": {},
   "outputs": [
    {
     "name": "stdout",
     "output_type": "stream",
     "text": [
      "What is your favorite car: Bentley Continental GT\n"
     ]
    },
    {
     "data": {
      "text/plain": [
       "'Bentley Continental GT'"
      ]
     },
     "execution_count": 13,
     "metadata": {},
     "output_type": "execute_result"
    }
   ],
   "source": [
    "input(\"What is your favorite car: \") "
   ]
  },
  {
   "cell_type": "code",
   "execution_count": null,
   "metadata": {},
   "outputs": [],
   "source": [
    "number_choice = int(input(\"please enter a number: \"))\n",
    "print(number_choice)"
   ]
  },
  {
   "cell_type": "code",
   "execution_count": null,
   "metadata": {},
   "outputs": [],
   "source": [
    "input(\"whats my name?: \")"
   ]
  },
  {
   "cell_type": "code",
   "execution_count": null,
   "metadata": {},
   "outputs": [],
   "source": [
    "input_variable = 1\n"
   ]
  },
  {
   "cell_type": "markdown",
   "metadata": {},
   "source": [
    "# Pandas"
   ]
  },
  {
   "cell_type": "code",
   "execution_count": 4,
   "metadata": {},
   "outputs": [],
   "source": [
    "import pandas as pd"
   ]
  },
  {
   "cell_type": "code",
   "execution_count": 2,
   "metadata": {},
   "outputs": [
    {
     "name": "stdout",
     "output_type": "stream",
     "text": [
      "   student_ID   name grade\n",
      "0           1   lucy    A+\n",
      "1           2  micah     D\n",
      "2           3   mark     B\n"
     ]
    }
   ],
   "source": [
    "x = {\"student_ID\" : [1,2,3],\n",
    "    \"name\" : [\"lucy\",\"micah\",\"mark\"],\n",
    "    \"grade\" : [\"A+\", \"D\", \"B\"]\n",
    "    }\n",
    "\n",
    "df = pd.DataFrame(x)\n",
    "\n",
    "print(df)"
   ]
  },
  {
   "cell_type": "code",
   "execution_count": 27,
   "metadata": {},
   "outputs": [
    {
     "data": {
      "text/html": [
       "<div>\n",
       "<style scoped>\n",
       "    .dataframe tbody tr th:only-of-type {\n",
       "        vertical-align: middle;\n",
       "    }\n",
       "\n",
       "    .dataframe tbody tr th {\n",
       "        vertical-align: top;\n",
       "    }\n",
       "\n",
       "    .dataframe thead th {\n",
       "        text-align: right;\n",
       "    }\n",
       "</style>\n",
       "<table border=\"1\" class=\"dataframe\">\n",
       "  <thead>\n",
       "    <tr style=\"text-align: right;\">\n",
       "      <th></th>\n",
       "      <th>Car_Make</th>\n",
       "      <th>Car_Model</th>\n",
       "      <th>Engine</th>\n",
       "      <th>Price</th>\n",
       "      <th>Markup</th>\n",
       "    </tr>\n",
       "  </thead>\n",
       "  <tbody>\n",
       "    <tr>\n",
       "      <th>0</th>\n",
       "      <td>VW</td>\n",
       "      <td>Golf</td>\n",
       "      <td>1.4</td>\n",
       "      <td>7800</td>\n",
       "      <td>1.13</td>\n",
       "    </tr>\n",
       "    <tr>\n",
       "      <th>1</th>\n",
       "      <td>BMW</td>\n",
       "      <td>3 Series</td>\n",
       "      <td>2.0</td>\n",
       "      <td>11000</td>\n",
       "      <td>1.08</td>\n",
       "    </tr>\n",
       "    <tr>\n",
       "      <th>2</th>\n",
       "      <td>Mercedes-Benz</td>\n",
       "      <td>E-Class</td>\n",
       "      <td>2.0</td>\n",
       "      <td>15000</td>\n",
       "      <td>1.11</td>\n",
       "    </tr>\n",
       "    <tr>\n",
       "      <th>3</th>\n",
       "      <td>Vauxhall</td>\n",
       "      <td>Astra</td>\n",
       "      <td>1.2</td>\n",
       "      <td>6700</td>\n",
       "      <td>1.21</td>\n",
       "    </tr>\n",
       "    <tr>\n",
       "      <th>4</th>\n",
       "      <td>Toyota</td>\n",
       "      <td>Yaris</td>\n",
       "      <td>1.1</td>\n",
       "      <td>8200</td>\n",
       "      <td>1.02</td>\n",
       "    </tr>\n",
       "  </tbody>\n",
       "</table>\n",
       "</div>"
      ],
      "text/plain": [
       "        Car_Make Car_Model  Engine  Price  Markup\n",
       "0             VW      Golf     1.4   7800    1.13\n",
       "1            BMW  3 Series     2.0  11000    1.08\n",
       "2  Mercedes-Benz   E-Class     2.0  15000    1.11\n",
       "3       Vauxhall     Astra     1.2   6700    1.21\n",
       "4         Toyota     Yaris     1.1   8200    1.02"
      ]
     },
     "execution_count": 27,
     "metadata": {},
     "output_type": "execute_result"
    }
   ],
   "source": [
    "data = {\"Car_Make\": [\"VW\", \"BMW\",\"Mercedes-Benz\",\"Vauxhall\", \"Toyota\", \"Honda\", \"Mazda\"],\n",
    "       \"Car_Model\": [\"Golf\", \"3 Series\", \"E-Class\", \"Astra\", \"Yaris\", \"Civic\", \"3\"],\n",
    "       \"Engine\": [1.4, 2, 2, 1.2, 1.1, 1.6, 2.2],\n",
    "       \"Price\": [7800, 11000, 15000, 6700, 8200, 9600, 9000]\n",
    "       }\n",
    "\n",
    "cars = pd.DataFrame(data)\n",
    "\n",
    "data2 = {\"Car_Make\": [\"VW\",\"BMW\",\"Mercedes-Benz\",\"Vauxhall\", \"Toyota\", \"Honda\", \"Mazda\"],\n",
    "        \"Markup\" : [1.13, 1.08, 1.11, 1.21, 1.02, 1.04, 1.02]}\n",
    "\n",
    "markup = pd.DataFrame(data2)\n",
    "\n",
    "merge = cars.merge(markup, how = \"left\")\n",
    "\n",
    "merge.head()"
   ]
  },
  {
   "cell_type": "code",
   "execution_count": 29,
   "metadata": {},
   "outputs": [
    {
     "data": {
      "text/html": [
       "<div>\n",
       "<style scoped>\n",
       "    .dataframe tbody tr th:only-of-type {\n",
       "        vertical-align: middle;\n",
       "    }\n",
       "\n",
       "    .dataframe tbody tr th {\n",
       "        vertical-align: top;\n",
       "    }\n",
       "\n",
       "    .dataframe thead th {\n",
       "        text-align: right;\n",
       "    }\n",
       "</style>\n",
       "<table border=\"1\" class=\"dataframe\">\n",
       "  <thead>\n",
       "    <tr style=\"text-align: right;\">\n",
       "      <th></th>\n",
       "      <th>Car_Make</th>\n",
       "      <th>Car_Model</th>\n",
       "      <th>Engine</th>\n",
       "      <th>Price</th>\n",
       "      <th>Markup</th>\n",
       "      <th>Retail_Price</th>\n",
       "    </tr>\n",
       "  </thead>\n",
       "  <tbody>\n",
       "    <tr>\n",
       "      <th>0</th>\n",
       "      <td>VW</td>\n",
       "      <td>Golf</td>\n",
       "      <td>1.4</td>\n",
       "      <td>7800</td>\n",
       "      <td>1.13</td>\n",
       "      <td>8814.0</td>\n",
       "    </tr>\n",
       "    <tr>\n",
       "      <th>1</th>\n",
       "      <td>BMW</td>\n",
       "      <td>3 Series</td>\n",
       "      <td>2.0</td>\n",
       "      <td>11000</td>\n",
       "      <td>1.08</td>\n",
       "      <td>11880.0</td>\n",
       "    </tr>\n",
       "    <tr>\n",
       "      <th>2</th>\n",
       "      <td>Mercedes-Benz</td>\n",
       "      <td>E-Class</td>\n",
       "      <td>2.0</td>\n",
       "      <td>15000</td>\n",
       "      <td>1.11</td>\n",
       "      <td>16650.0</td>\n",
       "    </tr>\n",
       "    <tr>\n",
       "      <th>3</th>\n",
       "      <td>Vauxhall</td>\n",
       "      <td>Astra</td>\n",
       "      <td>1.2</td>\n",
       "      <td>6700</td>\n",
       "      <td>1.21</td>\n",
       "      <td>8107.0</td>\n",
       "    </tr>\n",
       "    <tr>\n",
       "      <th>4</th>\n",
       "      <td>Toyota</td>\n",
       "      <td>Yaris</td>\n",
       "      <td>1.1</td>\n",
       "      <td>8200</td>\n",
       "      <td>1.02</td>\n",
       "      <td>8364.0</td>\n",
       "    </tr>\n",
       "  </tbody>\n",
       "</table>\n",
       "</div>"
      ],
      "text/plain": [
       "        Car_Make Car_Model  Engine  Price  Markup  Retail_Price\n",
       "0             VW      Golf     1.4   7800    1.13        8814.0\n",
       "1            BMW  3 Series     2.0  11000    1.08       11880.0\n",
       "2  Mercedes-Benz   E-Class     2.0  15000    1.11       16650.0\n",
       "3       Vauxhall     Astra     1.2   6700    1.21        8107.0\n",
       "4         Toyota     Yaris     1.1   8200    1.02        8364.0"
      ]
     },
     "execution_count": 29,
     "metadata": {},
     "output_type": "execute_result"
    }
   ],
   "source": [
    "multiply = merge.Price*merge.Markup\n",
    "\n",
    "merge[\"Retail_Price\"] = multiply\n",
    "\n",
    "merge.head()"
   ]
  },
  {
   "cell_type": "code",
   "execution_count": 32,
   "metadata": {},
   "outputs": [
    {
     "data": {
      "text/html": [
       "<div>\n",
       "<style scoped>\n",
       "    .dataframe tbody tr th:only-of-type {\n",
       "        vertical-align: middle;\n",
       "    }\n",
       "\n",
       "    .dataframe tbody tr th {\n",
       "        vertical-align: top;\n",
       "    }\n",
       "\n",
       "    .dataframe thead th {\n",
       "        text-align: right;\n",
       "    }\n",
       "</style>\n",
       "<table border=\"1\" class=\"dataframe\">\n",
       "  <thead>\n",
       "    <tr style=\"text-align: right;\">\n",
       "      <th></th>\n",
       "      <th>Car_Make</th>\n",
       "      <th>Car_Model</th>\n",
       "      <th>Engine</th>\n",
       "      <th>Purchase_Price</th>\n",
       "      <th>Markup</th>\n",
       "      <th>Retail_Price</th>\n",
       "    </tr>\n",
       "  </thead>\n",
       "  <tbody>\n",
       "    <tr>\n",
       "      <th>0</th>\n",
       "      <td>VW</td>\n",
       "      <td>Golf</td>\n",
       "      <td>1.4</td>\n",
       "      <td>7800</td>\n",
       "      <td>1.13</td>\n",
       "      <td>8814.0</td>\n",
       "    </tr>\n",
       "    <tr>\n",
       "      <th>1</th>\n",
       "      <td>BMW</td>\n",
       "      <td>3 Series</td>\n",
       "      <td>2.0</td>\n",
       "      <td>11000</td>\n",
       "      <td>1.08</td>\n",
       "      <td>11880.0</td>\n",
       "    </tr>\n",
       "    <tr>\n",
       "      <th>2</th>\n",
       "      <td>Mercedes-Benz</td>\n",
       "      <td>E-Class</td>\n",
       "      <td>2.0</td>\n",
       "      <td>15000</td>\n",
       "      <td>1.11</td>\n",
       "      <td>16650.0</td>\n",
       "    </tr>\n",
       "    <tr>\n",
       "      <th>3</th>\n",
       "      <td>Vauxhall</td>\n",
       "      <td>Astra</td>\n",
       "      <td>1.2</td>\n",
       "      <td>6700</td>\n",
       "      <td>1.21</td>\n",
       "      <td>8107.0</td>\n",
       "    </tr>\n",
       "    <tr>\n",
       "      <th>4</th>\n",
       "      <td>Toyota</td>\n",
       "      <td>Yaris</td>\n",
       "      <td>1.1</td>\n",
       "      <td>8200</td>\n",
       "      <td>1.02</td>\n",
       "      <td>8364.0</td>\n",
       "    </tr>\n",
       "  </tbody>\n",
       "</table>\n",
       "</div>"
      ],
      "text/plain": [
       "        Car_Make Car_Model  Engine  Purchase_Price  Markup  Retail_Price\n",
       "0             VW      Golf     1.4            7800    1.13        8814.0\n",
       "1            BMW  3 Series     2.0           11000    1.08       11880.0\n",
       "2  Mercedes-Benz   E-Class     2.0           15000    1.11       16650.0\n",
       "3       Vauxhall     Astra     1.2            6700    1.21        8107.0\n",
       "4         Toyota     Yaris     1.1            8200    1.02        8364.0"
      ]
     },
     "execution_count": 32,
     "metadata": {},
     "output_type": "execute_result"
    }
   ],
   "source": [
    "df = merge.rename(columns = {\"Price\": \"Purchase_Price\"})\n",
    "\n",
    "df.head()"
   ]
  },
  {
   "cell_type": "code",
   "execution_count": 34,
   "metadata": {},
   "outputs": [
    {
     "data": {
      "text/plain": [
       "False"
      ]
     },
     "execution_count": 34,
     "metadata": {},
     "output_type": "execute_result"
    }
   ],
   "source": [
    "df.isnull().values.any()"
   ]
  },
  {
   "cell_type": "code",
   "execution_count": 5,
   "metadata": {},
   "outputs": [
    {
     "data": {
      "text/html": [
       "<div>\n",
       "<style scoped>\n",
       "    .dataframe tbody tr th:only-of-type {\n",
       "        vertical-align: middle;\n",
       "    }\n",
       "\n",
       "    .dataframe tbody tr th {\n",
       "        vertical-align: top;\n",
       "    }\n",
       "\n",
       "    .dataframe thead th {\n",
       "        text-align: right;\n",
       "    }\n",
       "</style>\n",
       "<table border=\"1\" class=\"dataframe\">\n",
       "  <thead>\n",
       "    <tr style=\"text-align: right;\">\n",
       "      <th></th>\n",
       "      <th>Series_reference</th>\n",
       "      <th>Period</th>\n",
       "      <th>Data_value</th>\n",
       "      <th>Suppressed</th>\n",
       "      <th>STATUS</th>\n",
       "      <th>UNITS</th>\n",
       "      <th>Magnitude</th>\n",
       "      <th>Subject</th>\n",
       "      <th>Group</th>\n",
       "      <th>Series_title_1</th>\n",
       "      <th>Series_title_2</th>\n",
       "      <th>Series_title_3</th>\n",
       "      <th>Series_title_4</th>\n",
       "      <th>Series_title_5</th>\n",
       "    </tr>\n",
       "  </thead>\n",
       "  <tbody>\n",
       "    <tr>\n",
       "      <th>0</th>\n",
       "      <td>WTSQ.SFA1CA</td>\n",
       "      <td>1995.03</td>\n",
       "      <td>2368.69</td>\n",
       "      <td>NaN</td>\n",
       "      <td>F</td>\n",
       "      <td>Dollars</td>\n",
       "      <td>6</td>\n",
       "      <td>Wholesale Trade Survey - WTS</td>\n",
       "      <td>Industry by variable - (ANZSIC06) - Subannual ...</td>\n",
       "      <td>Basic material wholesaling</td>\n",
       "      <td>Sales (operating income)</td>\n",
       "      <td>Current prices</td>\n",
       "      <td>Unadjusted</td>\n",
       "      <td>NaN</td>\n",
       "    </tr>\n",
       "    <tr>\n",
       "      <th>1</th>\n",
       "      <td>WTSQ.SFA1CA</td>\n",
       "      <td>1995.06</td>\n",
       "      <td>2100.44</td>\n",
       "      <td>NaN</td>\n",
       "      <td>F</td>\n",
       "      <td>Dollars</td>\n",
       "      <td>6</td>\n",
       "      <td>Wholesale Trade Survey - WTS</td>\n",
       "      <td>Industry by variable - (ANZSIC06) - Subannual ...</td>\n",
       "      <td>Basic material wholesaling</td>\n",
       "      <td>Sales (operating income)</td>\n",
       "      <td>Current prices</td>\n",
       "      <td>Unadjusted</td>\n",
       "      <td>NaN</td>\n",
       "    </tr>\n",
       "    <tr>\n",
       "      <th>2</th>\n",
       "      <td>WTSQ.SFA1CA</td>\n",
       "      <td>1995.09</td>\n",
       "      <td>2070.21</td>\n",
       "      <td>NaN</td>\n",
       "      <td>F</td>\n",
       "      <td>Dollars</td>\n",
       "      <td>6</td>\n",
       "      <td>Wholesale Trade Survey - WTS</td>\n",
       "      <td>Industry by variable - (ANZSIC06) - Subannual ...</td>\n",
       "      <td>Basic material wholesaling</td>\n",
       "      <td>Sales (operating income)</td>\n",
       "      <td>Current prices</td>\n",
       "      <td>Unadjusted</td>\n",
       "      <td>NaN</td>\n",
       "    </tr>\n",
       "    <tr>\n",
       "      <th>3</th>\n",
       "      <td>WTSQ.SFA1CA</td>\n",
       "      <td>1995.12</td>\n",
       "      <td>2284.77</td>\n",
       "      <td>NaN</td>\n",
       "      <td>F</td>\n",
       "      <td>Dollars</td>\n",
       "      <td>6</td>\n",
       "      <td>Wholesale Trade Survey - WTS</td>\n",
       "      <td>Industry by variable - (ANZSIC06) - Subannual ...</td>\n",
       "      <td>Basic material wholesaling</td>\n",
       "      <td>Sales (operating income)</td>\n",
       "      <td>Current prices</td>\n",
       "      <td>Unadjusted</td>\n",
       "      <td>NaN</td>\n",
       "    </tr>\n",
       "    <tr>\n",
       "      <th>4</th>\n",
       "      <td>WTSQ.SFA1CA</td>\n",
       "      <td>1996.03</td>\n",
       "      <td>2134.76</td>\n",
       "      <td>NaN</td>\n",
       "      <td>F</td>\n",
       "      <td>Dollars</td>\n",
       "      <td>6</td>\n",
       "      <td>Wholesale Trade Survey - WTS</td>\n",
       "      <td>Industry by variable - (ANZSIC06) - Subannual ...</td>\n",
       "      <td>Basic material wholesaling</td>\n",
       "      <td>Sales (operating income)</td>\n",
       "      <td>Current prices</td>\n",
       "      <td>Unadjusted</td>\n",
       "      <td>NaN</td>\n",
       "    </tr>\n",
       "  </tbody>\n",
       "</table>\n",
       "</div>"
      ],
      "text/plain": [
       "  Series_reference   Period  Data_value  Suppressed STATUS    UNITS  \\\n",
       "0      WTSQ.SFA1CA  1995.03     2368.69         NaN      F  Dollars   \n",
       "1      WTSQ.SFA1CA  1995.06     2100.44         NaN      F  Dollars   \n",
       "2      WTSQ.SFA1CA  1995.09     2070.21         NaN      F  Dollars   \n",
       "3      WTSQ.SFA1CA  1995.12     2284.77         NaN      F  Dollars   \n",
       "4      WTSQ.SFA1CA  1996.03     2134.76         NaN      F  Dollars   \n",
       "\n",
       "   Magnitude                       Subject  \\\n",
       "0          6  Wholesale Trade Survey - WTS   \n",
       "1          6  Wholesale Trade Survey - WTS   \n",
       "2          6  Wholesale Trade Survey - WTS   \n",
       "3          6  Wholesale Trade Survey - WTS   \n",
       "4          6  Wholesale Trade Survey - WTS   \n",
       "\n",
       "                                               Group  \\\n",
       "0  Industry by variable - (ANZSIC06) - Subannual ...   \n",
       "1  Industry by variable - (ANZSIC06) - Subannual ...   \n",
       "2  Industry by variable - (ANZSIC06) - Subannual ...   \n",
       "3  Industry by variable - (ANZSIC06) - Subannual ...   \n",
       "4  Industry by variable - (ANZSIC06) - Subannual ...   \n",
       "\n",
       "               Series_title_1            Series_title_2  Series_title_3  \\\n",
       "0  Basic material wholesaling  Sales (operating income)  Current prices   \n",
       "1  Basic material wholesaling  Sales (operating income)  Current prices   \n",
       "2  Basic material wholesaling  Sales (operating income)  Current prices   \n",
       "3  Basic material wholesaling  Sales (operating income)  Current prices   \n",
       "4  Basic material wholesaling  Sales (operating income)  Current prices   \n",
       "\n",
       "  Series_title_4 Series_title_5  \n",
       "0     Unadjusted            NaN  \n",
       "1     Unadjusted            NaN  \n",
       "2     Unadjusted            NaN  \n",
       "3     Unadjusted            NaN  \n",
       "4     Unadjusted            NaN  "
      ]
     },
     "execution_count": 5,
     "metadata": {},
     "output_type": "execute_result"
    }
   ],
   "source": [
    "survey = pd.read_csv(r\"C:\\Users\\Cassi\\OneDrive\\Documents\\Wholesale Trade Survey - love circular data.csv\")\n",
    "survey.head()"
   ]
  },
  {
   "cell_type": "code",
   "execution_count": 6,
   "metadata": {},
   "outputs": [
    {
     "data": {
      "text/html": [
       "<div>\n",
       "<style scoped>\n",
       "    .dataframe tbody tr th:only-of-type {\n",
       "        vertical-align: middle;\n",
       "    }\n",
       "\n",
       "    .dataframe tbody tr th {\n",
       "        vertical-align: top;\n",
       "    }\n",
       "\n",
       "    .dataframe thead th {\n",
       "        text-align: right;\n",
       "    }\n",
       "</style>\n",
       "<table border=\"1\" class=\"dataframe\">\n",
       "  <thead>\n",
       "    <tr style=\"text-align: right;\">\n",
       "      <th></th>\n",
       "      <th>Period</th>\n",
       "      <th>Data_value</th>\n",
       "      <th>Suppressed</th>\n",
       "      <th>Magnitude</th>\n",
       "    </tr>\n",
       "  </thead>\n",
       "  <tbody>\n",
       "    <tr>\n",
       "      <th>count</th>\n",
       "      <td>5096.000000</td>\n",
       "      <td>4942.000000</td>\n",
       "      <td>0.0</td>\n",
       "      <td>5096.000000</td>\n",
       "    </tr>\n",
       "    <tr>\n",
       "      <th>mean</th>\n",
       "      <td>2008.479243</td>\n",
       "      <td>3758.484008</td>\n",
       "      <td>NaN</td>\n",
       "      <td>5.489011</td>\n",
       "    </tr>\n",
       "    <tr>\n",
       "      <th>std</th>\n",
       "      <td>7.997333</td>\n",
       "      <td>5116.786049</td>\n",
       "      <td>NaN</td>\n",
       "      <td>1.674925</td>\n",
       "    </tr>\n",
       "    <tr>\n",
       "      <th>min</th>\n",
       "      <td>1995.030000</td>\n",
       "      <td>-27.800000</td>\n",
       "      <td>NaN</td>\n",
       "      <td>0.000000</td>\n",
       "    </tr>\n",
       "    <tr>\n",
       "      <th>25%</th>\n",
       "      <td>2001.120000</td>\n",
       "      <td>994.170000</td>\n",
       "      <td>NaN</td>\n",
       "      <td>6.000000</td>\n",
       "    </tr>\n",
       "    <tr>\n",
       "      <th>50%</th>\n",
       "      <td>2008.120000</td>\n",
       "      <td>2133.723000</td>\n",
       "      <td>NaN</td>\n",
       "      <td>6.000000</td>\n",
       "    </tr>\n",
       "    <tr>\n",
       "      <th>75%</th>\n",
       "      <td>2015.120000</td>\n",
       "      <td>4265.948000</td>\n",
       "      <td>NaN</td>\n",
       "      <td>6.000000</td>\n",
       "    </tr>\n",
       "    <tr>\n",
       "      <th>max</th>\n",
       "      <td>2022.090000</td>\n",
       "      <td>38858.407000</td>\n",
       "      <td>NaN</td>\n",
       "      <td>6.000000</td>\n",
       "    </tr>\n",
       "  </tbody>\n",
       "</table>\n",
       "</div>"
      ],
      "text/plain": [
       "            Period    Data_value  Suppressed    Magnitude\n",
       "count  5096.000000   4942.000000         0.0  5096.000000\n",
       "mean   2008.479243   3758.484008         NaN     5.489011\n",
       "std       7.997333   5116.786049         NaN     1.674925\n",
       "min    1995.030000    -27.800000         NaN     0.000000\n",
       "25%    2001.120000    994.170000         NaN     6.000000\n",
       "50%    2008.120000   2133.723000         NaN     6.000000\n",
       "75%    2015.120000   4265.948000         NaN     6.000000\n",
       "max    2022.090000  38858.407000         NaN     6.000000"
      ]
     },
     "execution_count": 6,
     "metadata": {},
     "output_type": "execute_result"
    }
   ],
   "source": [
    "survey.describe()"
   ]
  },
  {
   "cell_type": "code",
   "execution_count": null,
   "metadata": {},
   "outputs": [],
   "source": [
    "average_test_score = df[\"Test_scores\"].median()\n",
    "\n",
    "df[\"Test_scores\"].fillna(average_test_score, inplace = False)\n",
    "\n"
   ]
  },
  {
   "cell_type": "code",
   "execution_count": 31,
   "metadata": {
    "scrolled": true
   },
   "outputs": [
    {
     "data": {
      "text/html": [
       "<div>\n",
       "<style scoped>\n",
       "    .dataframe tbody tr th:only-of-type {\n",
       "        vertical-align: middle;\n",
       "    }\n",
       "\n",
       "    .dataframe tbody tr th {\n",
       "        vertical-align: top;\n",
       "    }\n",
       "\n",
       "    .dataframe thead th {\n",
       "        text-align: right;\n",
       "    }\n",
       "</style>\n",
       "<table border=\"1\" class=\"dataframe\">\n",
       "  <thead>\n",
       "    <tr style=\"text-align: right;\">\n",
       "      <th></th>\n",
       "      <th>Series_reference</th>\n",
       "      <th>Period</th>\n",
       "      <th>Data_value</th>\n",
       "      <th>Suppressed</th>\n",
       "      <th>STATUS</th>\n",
       "      <th>UNITS</th>\n",
       "      <th>Magnitude</th>\n",
       "      <th>Subject</th>\n",
       "      <th>Group</th>\n",
       "      <th>Series_title_1</th>\n",
       "      <th>Series_title_2</th>\n",
       "      <th>Series_title_3</th>\n",
       "      <th>Series_title_4</th>\n",
       "      <th>Series_title_5</th>\n",
       "    </tr>\n",
       "  </thead>\n",
       "  <tbody>\n",
       "    <tr>\n",
       "      <th>0</th>\n",
       "      <td>WTSQ.SFA1CA</td>\n",
       "      <td>1995.03</td>\n",
       "      <td>2368.69</td>\n",
       "      <td>0.0</td>\n",
       "      <td>F</td>\n",
       "      <td>Dollars</td>\n",
       "      <td>6</td>\n",
       "      <td>Wholesale Trade Survey - WTS</td>\n",
       "      <td>Industry by variable - (ANZSIC06) - Subannual ...</td>\n",
       "      <td>Basic material wholesaling</td>\n",
       "      <td>Sales (operating income)</td>\n",
       "      <td>Current prices</td>\n",
       "      <td>Unadjusted</td>\n",
       "      <td>0</td>\n",
       "    </tr>\n",
       "    <tr>\n",
       "      <th>1</th>\n",
       "      <td>WTSQ.SFA1CA</td>\n",
       "      <td>1995.06</td>\n",
       "      <td>2100.44</td>\n",
       "      <td>0.0</td>\n",
       "      <td>F</td>\n",
       "      <td>Dollars</td>\n",
       "      <td>6</td>\n",
       "      <td>Wholesale Trade Survey - WTS</td>\n",
       "      <td>Industry by variable - (ANZSIC06) - Subannual ...</td>\n",
       "      <td>Basic material wholesaling</td>\n",
       "      <td>Sales (operating income)</td>\n",
       "      <td>Current prices</td>\n",
       "      <td>Unadjusted</td>\n",
       "      <td>0</td>\n",
       "    </tr>\n",
       "    <tr>\n",
       "      <th>2</th>\n",
       "      <td>WTSQ.SFA1CA</td>\n",
       "      <td>1995.09</td>\n",
       "      <td>2070.21</td>\n",
       "      <td>0.0</td>\n",
       "      <td>F</td>\n",
       "      <td>Dollars</td>\n",
       "      <td>6</td>\n",
       "      <td>Wholesale Trade Survey - WTS</td>\n",
       "      <td>Industry by variable - (ANZSIC06) - Subannual ...</td>\n",
       "      <td>Basic material wholesaling</td>\n",
       "      <td>Sales (operating income)</td>\n",
       "      <td>Current prices</td>\n",
       "      <td>Unadjusted</td>\n",
       "      <td>0</td>\n",
       "    </tr>\n",
       "    <tr>\n",
       "      <th>3</th>\n",
       "      <td>WTSQ.SFA1CA</td>\n",
       "      <td>1995.12</td>\n",
       "      <td>2284.77</td>\n",
       "      <td>0.0</td>\n",
       "      <td>F</td>\n",
       "      <td>Dollars</td>\n",
       "      <td>6</td>\n",
       "      <td>Wholesale Trade Survey - WTS</td>\n",
       "      <td>Industry by variable - (ANZSIC06) - Subannual ...</td>\n",
       "      <td>Basic material wholesaling</td>\n",
       "      <td>Sales (operating income)</td>\n",
       "      <td>Current prices</td>\n",
       "      <td>Unadjusted</td>\n",
       "      <td>0</td>\n",
       "    </tr>\n",
       "    <tr>\n",
       "      <th>4</th>\n",
       "      <td>WTSQ.SFA1CA</td>\n",
       "      <td>1996.03</td>\n",
       "      <td>2134.76</td>\n",
       "      <td>0.0</td>\n",
       "      <td>F</td>\n",
       "      <td>Dollars</td>\n",
       "      <td>6</td>\n",
       "      <td>Wholesale Trade Survey - WTS</td>\n",
       "      <td>Industry by variable - (ANZSIC06) - Subannual ...</td>\n",
       "      <td>Basic material wholesaling</td>\n",
       "      <td>Sales (operating income)</td>\n",
       "      <td>Current prices</td>\n",
       "      <td>Unadjusted</td>\n",
       "      <td>0</td>\n",
       "    </tr>\n",
       "  </tbody>\n",
       "</table>\n",
       "</div>"
      ],
      "text/plain": [
       "  Series_reference   Period  Data_value  Suppressed STATUS    UNITS  \\\n",
       "0      WTSQ.SFA1CA  1995.03     2368.69         0.0      F  Dollars   \n",
       "1      WTSQ.SFA1CA  1995.06     2100.44         0.0      F  Dollars   \n",
       "2      WTSQ.SFA1CA  1995.09     2070.21         0.0      F  Dollars   \n",
       "3      WTSQ.SFA1CA  1995.12     2284.77         0.0      F  Dollars   \n",
       "4      WTSQ.SFA1CA  1996.03     2134.76         0.0      F  Dollars   \n",
       "\n",
       "   Magnitude                       Subject  \\\n",
       "0          6  Wholesale Trade Survey - WTS   \n",
       "1          6  Wholesale Trade Survey - WTS   \n",
       "2          6  Wholesale Trade Survey - WTS   \n",
       "3          6  Wholesale Trade Survey - WTS   \n",
       "4          6  Wholesale Trade Survey - WTS   \n",
       "\n",
       "                                               Group  \\\n",
       "0  Industry by variable - (ANZSIC06) - Subannual ...   \n",
       "1  Industry by variable - (ANZSIC06) - Subannual ...   \n",
       "2  Industry by variable - (ANZSIC06) - Subannual ...   \n",
       "3  Industry by variable - (ANZSIC06) - Subannual ...   \n",
       "4  Industry by variable - (ANZSIC06) - Subannual ...   \n",
       "\n",
       "               Series_title_1            Series_title_2  Series_title_3  \\\n",
       "0  Basic material wholesaling  Sales (operating income)  Current prices   \n",
       "1  Basic material wholesaling  Sales (operating income)  Current prices   \n",
       "2  Basic material wholesaling  Sales (operating income)  Current prices   \n",
       "3  Basic material wholesaling  Sales (operating income)  Current prices   \n",
       "4  Basic material wholesaling  Sales (operating income)  Current prices   \n",
       "\n",
       "  Series_title_4 Series_title_5  \n",
       "0     Unadjusted              0  \n",
       "1     Unadjusted              0  \n",
       "2     Unadjusted              0  \n",
       "3     Unadjusted              0  \n",
       "4     Unadjusted              0  "
      ]
     },
     "execution_count": 31,
     "metadata": {},
     "output_type": "execute_result"
    }
   ],
   "source": [
    "df_clean = survey.fillna(0, inplace = False) \n",
    "\n",
    "df_2 = pd.DataFrame(df_clean)\n",
    "\n",
    "df_2.head()"
   ]
  },
  {
   "cell_type": "code",
   "execution_count": 5,
   "metadata": {},
   "outputs": [
    {
     "data": {
      "text/plain": [
       "<matplotlib.axes._subplots.AxesSubplot at 0x2379fea5708>"
      ]
     },
     "execution_count": 5,
     "metadata": {},
     "output_type": "execute_result"
    },
    {
     "data": {
      "image/png": "[encoded data removed]",
      "text/plain": [
       "<Figure size 432x288 with 1 Axes>"
      ]
     },
     "metadata": {
      "needs_background": "light"
     },
     "output_type": "display_data"
    }
   ],
   "source": [
    "age_list = [8, 10, 12, 14, 72, 74, 76, 78, 20, 25, 30, 35, 60, 85]\n",
    "df = pd.DataFrame({\"gender\": list(\"MMMMMMMMFFFFFF\"), \"age\": age_list})\n",
    "df.plot()"
   ]
  },
  {
   "cell_type": "code",
   "execution_count": 6,
   "metadata": {},
   "outputs": [],
   "source": [
    "import matplotlib.pyplot as plt"
   ]
  },
  {
   "cell_type": "code",
   "execution_count": 7,
   "metadata": {},
   "outputs": [
    {
     "data": {
      "text/plain": [
       "<matplotlib.axes._subplots.AxesSubplot at 0x237a05ac388>"
      ]
     },
     "execution_count": 7,
     "metadata": {},
     "output_type": "execute_result"
    },
    {
     "data": {
      "image/png": "[encoded data removed]",
      "text/plain": [
       "<Figure size 432x288 with 1 Axes>"
      ]
     },
     "metadata": {
      "needs_background": "light"
     },
     "output_type": "display_data"
    }
   ],
   "source": [
    "survey.plot(kind = \"scatter\", x = \"UNITS\", y = \"Data_value\")"
   ]
  },
  {
   "cell_type": "code",
   "execution_count": 17,
   "metadata": {},
   "outputs": [
    {
     "data": {
      "text/html": [
       "<div>\n",
       "<style scoped>\n",
       "    .dataframe tbody tr th:only-of-type {\n",
       "        vertical-align: middle;\n",
       "    }\n",
       "\n",
       "    .dataframe tbody tr th {\n",
       "        vertical-align: top;\n",
       "    }\n",
       "\n",
       "    .dataframe thead th {\n",
       "        text-align: right;\n",
       "    }\n",
       "</style>\n",
       "<table border=\"1\" class=\"dataframe\">\n",
       "  <thead>\n",
       "    <tr style=\"text-align: right;\">\n",
       "      <th></th>\n",
       "      <th>brand</th>\n",
       "      <th>price</th>\n",
       "    </tr>\n",
       "  </thead>\n",
       "  <tbody>\n",
       "    <tr>\n",
       "      <th>0</th>\n",
       "      <td>BMW</td>\n",
       "      <td>10000</td>\n",
       "    </tr>\n",
       "    <tr>\n",
       "      <th>1</th>\n",
       "      <td>Ford</td>\n",
       "      <td>3000</td>\n",
       "    </tr>\n",
       "    <tr>\n",
       "      <th>2</th>\n",
       "      <td>Nissan</td>\n",
       "      <td>6000</td>\n",
       "    </tr>\n",
       "    <tr>\n",
       "      <th>3</th>\n",
       "      <td>Ford</td>\n",
       "      <td>3000</td>\n",
       "    </tr>\n",
       "    <tr>\n",
       "      <th>4</th>\n",
       "      <td>Ford</td>\n",
       "      <td>3000</td>\n",
       "    </tr>\n",
       "  </tbody>\n",
       "</table>\n",
       "</div>"
      ],
      "text/plain": [
       "    brand  price\n",
       "0     BMW  10000\n",
       "1    Ford   3000\n",
       "2  Nissan   6000\n",
       "3    Ford   3000\n",
       "4    Ford   3000"
      ]
     },
     "execution_count": 17,
     "metadata": {},
     "output_type": "execute_result"
    }
   ],
   "source": [
    "cars = { \"brand\": [\"BMW\", \"Ford\", \"Nissan\", \"Ford\", \"Ford\", \"Mazda\"],\n",
    " \"price\": [10000,3000,6000,3000,3000,0]\n",
    " }\n",
    "\n",
    "df = pd.DataFrame(cars)\n",
    "df.head()"
   ]
  },
  {
   "cell_type": "code",
   "execution_count": 15,
   "metadata": {},
   "outputs": [
    {
     "data": {
      "text/html": [
       "<div>\n",
       "<style scoped>\n",
       "    .dataframe tbody tr th:only-of-type {\n",
       "        vertical-align: middle;\n",
       "    }\n",
       "\n",
       "    .dataframe tbody tr th {\n",
       "        vertical-align: top;\n",
       "    }\n",
       "\n",
       "    .dataframe thead th {\n",
       "        text-align: right;\n",
       "    }\n",
       "</style>\n",
       "<table border=\"1\" class=\"dataframe\">\n",
       "  <thead>\n",
       "    <tr style=\"text-align: right;\">\n",
       "      <th></th>\n",
       "      <th>brand</th>\n",
       "      <th>price</th>\n",
       "    </tr>\n",
       "  </thead>\n",
       "  <tbody>\n",
       "    <tr>\n",
       "      <th>0</th>\n",
       "      <td>BMW</td>\n",
       "      <td>10000</td>\n",
       "    </tr>\n",
       "    <tr>\n",
       "      <th>2</th>\n",
       "      <td>Nissan</td>\n",
       "      <td>6000</td>\n",
       "    </tr>\n",
       "    <tr>\n",
       "      <th>4</th>\n",
       "      <td>Ford</td>\n",
       "      <td>3000</td>\n",
       "    </tr>\n",
       "  </tbody>\n",
       "</table>\n",
       "</div>"
      ],
      "text/plain": [
       "    brand  price\n",
       "0     BMW  10000\n",
       "2  Nissan   6000\n",
       "4    Ford   3000"
      ]
     },
     "execution_count": 15,
     "metadata": {},
     "output_type": "execute_result"
    }
   ],
   "source": [
    "clean_df = df.drop_duplicates(subset = [\"brand\"], keep = \"last\")\n",
    "\n",
    "clean_df.head()"
   ]
  },
  {
   "cell_type": "code",
   "execution_count": null,
   "metadata": {},
   "outputs": [],
   "source": []
  }
 ],
 "metadata": {
  "kernelspec": {
   "display_name": "Python 3",
   "language": "python",
   "name": "python3"
  },
  "language_info": {
   "codemirror_mode": {
    "name": "ipython",
    "version": 3
   },
   "file_extension": ".py",
   "mimetype": "text/x-python",
   "name": "python",
   "nbconvert_exporter": "python",
   "pygments_lexer": "ipython3",
   "version": "3.7.6"
  }
 },
 "nbformat": 4,
 "nbformat_minor": 4
}
